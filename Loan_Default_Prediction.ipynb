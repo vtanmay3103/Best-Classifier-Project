{
  "nbformat": 4,
  "nbformat_minor": 0,
  "metadata": {
    "colab": {
      "name": "Loan Default Prediction.ipynb",
      "provenance": []
    },
    "kernelspec": {
      "name": "python3",
      "display_name": "Python 3"
    },
    "language_info": {
      "name": "python"
    }
  },
  "cells": [
    {
      "cell_type": "code",
      "source": [
        "from google.colab import drive   #mounting the google drive \n",
        "drive.mount('/content/drive')"
      ],
      "metadata": {
        "colab": {
          "base_uri": "https://localhost:8080/"
        },
        "id": "OLKJ0oli-hez",
        "outputId": "b69c9a8b-c37c-4ef1-8a56-6a7183309a82"
      },
      "execution_count": null,
      "outputs": [
        {
          "output_type": "stream",
          "name": "stdout",
          "text": [
            "Mounted at /content/drive\n"
          ]
        }
      ]
    },
    {
      "cell_type": "code",
      "execution_count": null,
      "metadata": {
        "id": "ToQrgcgx9zvp"
      },
      "outputs": [],
      "source": [
        "# Importing the required libraries\n",
        "\n",
        "import pandas as pd\n",
        "import numpy as np\n",
        "import matplotlib.pyplot as plt\n",
        "import seaborn as sns\n",
        "from scipy import stats\n",
        "\n",
        "# Data Preprocessing Imports\n",
        "from sklearn.preprocessing import StandardScaler, RobustScaler, MinMaxScaler \n",
        "from sklearn.preprocessing import OrdinalEncoder, OneHotEncoder\n",
        "from sklearn.model_selection import train_test_split\n",
        "\n",
        "# Classifiers\n",
        "from sklearn.linear_model import LogisticRegression\n",
        "from sklearn.neighbors import KNeighborsClassifier\n",
        "from sklearn.ensemble import RandomForestClassifier, GradientBoostingClassifier \n",
        "from xgboost import XGBClassifier\n",
        "from sklearn.svm import SVC\n",
        "\n",
        "# Mertics\n",
        "from sklearn.model_selection import cross_val_score, RandomizedSearchCV\n",
        "from sklearn.metrics import accuracy_score\n",
        "from sklearn.metrics import f1_score\n",
        "from sklearn.metrics import confusion_matrix\n",
        "from sklearn.metrics import precision_score, recall_score, roc_auc_score, classification_report\n",
        "\n",
        "# Neural Network Imports\n",
        "import tensorflow as tf\n",
        "from tensorflow.keras.models import Sequential, Model\n",
        "from tensorflow.keras.layers import Dense, Dropout, BatchNormalization \n",
        "from tensorflow.keras.optimizers import Adam\n",
        "from tensorflow.keras.metrics import AUC, Recall\n",
        "\n",
        "from imblearn.under_sampling import RandomUnderSampler , NearMiss\n",
        "\n",
        "%matplotlib inline\n",
        "\n",
        "import warnings\n",
        "warnings.filterwarnings('ignore')\n",
        "\n",
        "\n",
        "# Other Libraries\n",
        "from sklearn.model_selection import train_test_split\n",
        "from sklearn.pipeline import make_pipeline\n",
        "from imblearn.pipeline import make_pipeline as imbalanced_make_pipeline\n",
        "from imblearn.over_sampling import SMOTE\n",
        "from imblearn.under_sampling import NearMiss\n",
        "from imblearn.metrics import classification_report_imbalanced\n",
        "from collections import Counter\n",
        "from sklearn.model_selection import KFold, StratifiedKFold\n",
        "import warnings\n",
        "warnings.filterwarnings(\"ignore\")\n",
        "\n",
        "data_path = '/content/drive/MyDrive/Drip Assignment/Datatape_1.csv'"
      ]
    },
    {
      "cell_type": "code",
      "source": [
        "data = pd.read_csv(data_path)\n",
        "data.shape"
      ],
      "metadata": {
        "colab": {
          "base_uri": "https://localhost:8080/"
        },
        "id": "5Wjk4K_--tEV",
        "outputId": "95a0c7d5-209a-4f8a-c8ce-8a38c9b10368"
      },
      "execution_count": null,
      "outputs": [
        {
          "output_type": "execute_result",
          "data": {
            "text/plain": [
              "(750000, 41)"
            ]
          },
          "metadata": {},
          "execution_count": 3
        }
      ]
    },
    {
      "cell_type": "code",
      "source": [
        "data.head()"
      ],
      "metadata": {
        "colab": {
          "base_uri": "https://localhost:8080/",
          "height": 236
        },
        "id": "hexITBE1-0t7",
        "outputId": "016f5843-979e-4496-cbe4-1707c1e3bfd8"
      },
      "execution_count": null,
      "outputs": [
        {
          "output_type": "execute_result",
          "data": {
            "text/plain": [
              "   loan_id  user_id  total_loan  year_of_loan  interest  monthly_payment  \\\n",
              "0   119262        0       12000             5     11.53           264.10   \n",
              "1   369815        1        8000             3     13.98           273.35   \n",
              "2   787833        2       20000             5     17.99           507.76   \n",
              "3   671675        3       10700             3     10.16           346.07   \n",
              "4   245160        4        8000             3      8.24           251.58   \n",
              "\n",
              "  class sub_class  employment_grade  work_year  ...  earlies_credit_mon  \\\n",
              "0     B        B5                 1        NaN  ...              Mar-84   \n",
              "1     C        C3                 1  10+ years  ...              Jan-92   \n",
              "2     D        D2                 3  10+ years  ...              Oct-96   \n",
              "3     B        B1                 1    2 years  ...              Jul-00   \n",
              "4     B        B1                 1    5 years  ...              Mar-00   \n",
              "\n",
              "     title  policy_code   f0   f1    f2    f3   f4   f5  is_default  \n",
              "0      0.0            1  1.0  0.0   8.0  17.0  8.0  1.0           1  \n",
              "1     94.0            1  NaN  NaN   NaN   NaN  NaN  NaN           0  \n",
              "2      0.0            1  6.0  0.0  10.0   8.0  3.0  0.0           0  \n",
              "3  41646.0            1  3.0  0.0   4.0  11.0  6.0  0.0           0  \n",
              "4      4.0            1  3.0  0.0   8.0   6.0  4.0  1.0           0  \n",
              "\n",
              "[5 rows x 41 columns]"
            ],
            "text/html": [
              "\n",
              "  <div id=\"df-d08e9357-b418-40f4-b3e7-b3b4902edd84\">\n",
              "    <div class=\"colab-df-container\">\n",
              "      <div>\n",
              "<style scoped>\n",
              "    .dataframe tbody tr th:only-of-type {\n",
              "        vertical-align: middle;\n",
              "    }\n",
              "\n",
              "    .dataframe tbody tr th {\n",
              "        vertical-align: top;\n",
              "    }\n",
              "\n",
              "    .dataframe thead th {\n",
              "        text-align: right;\n",
              "    }\n",
              "</style>\n",
              "<table border=\"1\" class=\"dataframe\">\n",
              "  <thead>\n",
              "    <tr style=\"text-align: right;\">\n",
              "      <th></th>\n",
              "      <th>loan_id</th>\n",
              "      <th>user_id</th>\n",
              "      <th>total_loan</th>\n",
              "      <th>year_of_loan</th>\n",
              "      <th>interest</th>\n",
              "      <th>monthly_payment</th>\n",
              "      <th>class</th>\n",
              "      <th>sub_class</th>\n",
              "      <th>employment_grade</th>\n",
              "      <th>work_year</th>\n",
              "      <th>...</th>\n",
              "      <th>earlies_credit_mon</th>\n",
              "      <th>title</th>\n",
              "      <th>policy_code</th>\n",
              "      <th>f0</th>\n",
              "      <th>f1</th>\n",
              "      <th>f2</th>\n",
              "      <th>f3</th>\n",
              "      <th>f4</th>\n",
              "      <th>f5</th>\n",
              "      <th>is_default</th>\n",
              "    </tr>\n",
              "  </thead>\n",
              "  <tbody>\n",
              "    <tr>\n",
              "      <th>0</th>\n",
              "      <td>119262</td>\n",
              "      <td>0</td>\n",
              "      <td>12000</td>\n",
              "      <td>5</td>\n",
              "      <td>11.53</td>\n",
              "      <td>264.10</td>\n",
              "      <td>B</td>\n",
              "      <td>B5</td>\n",
              "      <td>1</td>\n",
              "      <td>NaN</td>\n",
              "      <td>...</td>\n",
              "      <td>Mar-84</td>\n",
              "      <td>0.0</td>\n",
              "      <td>1</td>\n",
              "      <td>1.0</td>\n",
              "      <td>0.0</td>\n",
              "      <td>8.0</td>\n",
              "      <td>17.0</td>\n",
              "      <td>8.0</td>\n",
              "      <td>1.0</td>\n",
              "      <td>1</td>\n",
              "    </tr>\n",
              "    <tr>\n",
              "      <th>1</th>\n",
              "      <td>369815</td>\n",
              "      <td>1</td>\n",
              "      <td>8000</td>\n",
              "      <td>3</td>\n",
              "      <td>13.98</td>\n",
              "      <td>273.35</td>\n",
              "      <td>C</td>\n",
              "      <td>C3</td>\n",
              "      <td>1</td>\n",
              "      <td>10+ years</td>\n",
              "      <td>...</td>\n",
              "      <td>Jan-92</td>\n",
              "      <td>94.0</td>\n",
              "      <td>1</td>\n",
              "      <td>NaN</td>\n",
              "      <td>NaN</td>\n",
              "      <td>NaN</td>\n",
              "      <td>NaN</td>\n",
              "      <td>NaN</td>\n",
              "      <td>NaN</td>\n",
              "      <td>0</td>\n",
              "    </tr>\n",
              "    <tr>\n",
              "      <th>2</th>\n",
              "      <td>787833</td>\n",
              "      <td>2</td>\n",
              "      <td>20000</td>\n",
              "      <td>5</td>\n",
              "      <td>17.99</td>\n",
              "      <td>507.76</td>\n",
              "      <td>D</td>\n",
              "      <td>D2</td>\n",
              "      <td>3</td>\n",
              "      <td>10+ years</td>\n",
              "      <td>...</td>\n",
              "      <td>Oct-96</td>\n",
              "      <td>0.0</td>\n",
              "      <td>1</td>\n",
              "      <td>6.0</td>\n",
              "      <td>0.0</td>\n",
              "      <td>10.0</td>\n",
              "      <td>8.0</td>\n",
              "      <td>3.0</td>\n",
              "      <td>0.0</td>\n",
              "      <td>0</td>\n",
              "    </tr>\n",
              "    <tr>\n",
              "      <th>3</th>\n",
              "      <td>671675</td>\n",
              "      <td>3</td>\n",
              "      <td>10700</td>\n",
              "      <td>3</td>\n",
              "      <td>10.16</td>\n",
              "      <td>346.07</td>\n",
              "      <td>B</td>\n",
              "      <td>B1</td>\n",
              "      <td>1</td>\n",
              "      <td>2 years</td>\n",
              "      <td>...</td>\n",
              "      <td>Jul-00</td>\n",
              "      <td>41646.0</td>\n",
              "      <td>1</td>\n",
              "      <td>3.0</td>\n",
              "      <td>0.0</td>\n",
              "      <td>4.0</td>\n",
              "      <td>11.0</td>\n",
              "      <td>6.0</td>\n",
              "      <td>0.0</td>\n",
              "      <td>0</td>\n",
              "    </tr>\n",
              "    <tr>\n",
              "      <th>4</th>\n",
              "      <td>245160</td>\n",
              "      <td>4</td>\n",
              "      <td>8000</td>\n",
              "      <td>3</td>\n",
              "      <td>8.24</td>\n",
              "      <td>251.58</td>\n",
              "      <td>B</td>\n",
              "      <td>B1</td>\n",
              "      <td>1</td>\n",
              "      <td>5 years</td>\n",
              "      <td>...</td>\n",
              "      <td>Mar-00</td>\n",
              "      <td>4.0</td>\n",
              "      <td>1</td>\n",
              "      <td>3.0</td>\n",
              "      <td>0.0</td>\n",
              "      <td>8.0</td>\n",
              "      <td>6.0</td>\n",
              "      <td>4.0</td>\n",
              "      <td>1.0</td>\n",
              "      <td>0</td>\n",
              "    </tr>\n",
              "  </tbody>\n",
              "</table>\n",
              "<p>5 rows × 41 columns</p>\n",
              "</div>\n",
              "      <button class=\"colab-df-convert\" onclick=\"convertToInteractive('df-d08e9357-b418-40f4-b3e7-b3b4902edd84')\"\n",
              "              title=\"Convert this dataframe to an interactive table.\"\n",
              "              style=\"display:none;\">\n",
              "        \n",
              "  <svg xmlns=\"http://www.w3.org/2000/svg\" height=\"24px\"viewBox=\"0 0 24 24\"\n",
              "       width=\"24px\">\n",
              "    <path d=\"M0 0h24v24H0V0z\" fill=\"none\"/>\n",
              "    <path d=\"M18.56 5.44l.94 2.06.94-2.06 2.06-.94-2.06-.94-.94-2.06-.94 2.06-2.06.94zm-11 1L8.5 8.5l.94-2.06 2.06-.94-2.06-.94L8.5 2.5l-.94 2.06-2.06.94zm10 10l.94 2.06.94-2.06 2.06-.94-2.06-.94-.94-2.06-.94 2.06-2.06.94z\"/><path d=\"M17.41 7.96l-1.37-1.37c-.4-.4-.92-.59-1.43-.59-.52 0-1.04.2-1.43.59L10.3 9.45l-7.72 7.72c-.78.78-.78 2.05 0 2.83L4 21.41c.39.39.9.59 1.41.59.51 0 1.02-.2 1.41-.59l7.78-7.78 2.81-2.81c.8-.78.8-2.07 0-2.86zM5.41 20L4 18.59l7.72-7.72 1.47 1.35L5.41 20z\"/>\n",
              "  </svg>\n",
              "      </button>\n",
              "      \n",
              "  <style>\n",
              "    .colab-df-container {\n",
              "      display:flex;\n",
              "      flex-wrap:wrap;\n",
              "      gap: 12px;\n",
              "    }\n",
              "\n",
              "    .colab-df-convert {\n",
              "      background-color: #E8F0FE;\n",
              "      border: none;\n",
              "      border-radius: 50%;\n",
              "      cursor: pointer;\n",
              "      display: none;\n",
              "      fill: #1967D2;\n",
              "      height: 32px;\n",
              "      padding: 0 0 0 0;\n",
              "      width: 32px;\n",
              "    }\n",
              "\n",
              "    .colab-df-convert:hover {\n",
              "      background-color: #E2EBFA;\n",
              "      box-shadow: 0px 1px 2px rgba(60, 64, 67, 0.3), 0px 1px 3px 1px rgba(60, 64, 67, 0.15);\n",
              "      fill: #174EA6;\n",
              "    }\n",
              "\n",
              "    [theme=dark] .colab-df-convert {\n",
              "      background-color: #3B4455;\n",
              "      fill: #D2E3FC;\n",
              "    }\n",
              "\n",
              "    [theme=dark] .colab-df-convert:hover {\n",
              "      background-color: #434B5C;\n",
              "      box-shadow: 0px 1px 3px 1px rgba(0, 0, 0, 0.15);\n",
              "      filter: drop-shadow(0px 1px 2px rgba(0, 0, 0, 0.3));\n",
              "      fill: #FFFFFF;\n",
              "    }\n",
              "  </style>\n",
              "\n",
              "      <script>\n",
              "        const buttonEl =\n",
              "          document.querySelector('#df-d08e9357-b418-40f4-b3e7-b3b4902edd84 button.colab-df-convert');\n",
              "        buttonEl.style.display =\n",
              "          google.colab.kernel.accessAllowed ? 'block' : 'none';\n",
              "\n",
              "        async function convertToInteractive(key) {\n",
              "          const element = document.querySelector('#df-d08e9357-b418-40f4-b3e7-b3b4902edd84');\n",
              "          const dataTable =\n",
              "            await google.colab.kernel.invokeFunction('convertToInteractive',\n",
              "                                                     [key], {});\n",
              "          if (!dataTable) return;\n",
              "\n",
              "          const docLinkHtml = 'Like what you see? Visit the ' +\n",
              "            '<a target=\"_blank\" href=https://colab.research.google.com/notebooks/data_table.ipynb>data table notebook</a>'\n",
              "            + ' to learn more about interactive tables.';\n",
              "          element.innerHTML = '';\n",
              "          dataTable['output_type'] = 'display_data';\n",
              "          await google.colab.output.renderOutput(dataTable, element);\n",
              "          const docLink = document.createElement('div');\n",
              "          docLink.innerHTML = docLinkHtml;\n",
              "          element.appendChild(docLink);\n",
              "        }\n",
              "      </script>\n",
              "    </div>\n",
              "  </div>\n",
              "  "
            ]
          },
          "metadata": {},
          "execution_count": 4
        }
      ]
    },
    {
      "cell_type": "code",
      "source": [
        "data.info()"
      ],
      "metadata": {
        "colab": {
          "base_uri": "https://localhost:8080/"
        },
        "id": "nNaI3i-p-3wr",
        "outputId": "fee63ded-c8eb-4992-836e-ffaeaed9e707"
      },
      "execution_count": null,
      "outputs": [
        {
          "output_type": "stream",
          "name": "stdout",
          "text": [
            "<class 'pandas.core.frame.DataFrame'>\n",
            "RangeIndex: 750000 entries, 0 to 749999\n",
            "Data columns (total 41 columns):\n",
            " #   Column                    Non-Null Count   Dtype  \n",
            "---  ------                    --------------   -----  \n",
            " 0   loan_id                   750000 non-null  int64  \n",
            " 1   user_id                   750000 non-null  int64  \n",
            " 2   total_loan                750000 non-null  int64  \n",
            " 3   year_of_loan              750000 non-null  int64  \n",
            " 4   interest                  750000 non-null  float64\n",
            " 5   monthly_payment           750000 non-null  float64\n",
            " 6   class                     750000 non-null  object \n",
            " 7   sub_class                 750000 non-null  object \n",
            " 8   employment_grade          750000 non-null  int64  \n",
            " 9   work_year                 706153 non-null  object \n",
            " 10  house_exist               750000 non-null  int64  \n",
            " 11  house_loan_status         750000 non-null  int64  \n",
            " 12  salary                    750000 non-null  float64\n",
            " 13  censor_status             750000 non-null  int64  \n",
            " 14  marriage                  750000 non-null  int64  \n",
            " 15  offsprings                750000 non-null  int64  \n",
            " 16  issue_date                750000 non-null  object \n",
            " 17  use                       750000 non-null  int64  \n",
            " 18  post_code                 749999 non-null  float64\n",
            " 19  region                    750000 non-null  int64  \n",
            " 20  debt_loan_ratio           749770 non-null  float64\n",
            " 21  del_in_18month            750000 non-null  int64  \n",
            " 22  scoring_low               750000 non-null  int64  \n",
            " 23  scoring_high              750000 non-null  int64  \n",
            " 24  pub_dero_bankrup          749625 non-null  float64\n",
            " 25  early_return              750000 non-null  int64  \n",
            " 26  early_return_amount       750000 non-null  int64  \n",
            " 27  early_return_amount_3mon  750000 non-null  float64\n",
            " 28  recircle_b                750000 non-null  int64  \n",
            " 29  recircle_u                749511 non-null  float64\n",
            " 30  initial_list_status       750000 non-null  int64  \n",
            " 31  earlies_credit_mon        750000 non-null  object \n",
            " 32  title                     749999 non-null  float64\n",
            " 33  policy_code               750000 non-null  int64  \n",
            " 34  f0                        712202 non-null  float64\n",
            " 35  f1                        684589 non-null  float64\n",
            " 36  f2                        712202 non-null  float64\n",
            " 37  f3                        712201 non-null  float64\n",
            " 38  f4                        712202 non-null  float64\n",
            " 39  f5                        712202 non-null  float64\n",
            " 40  is_default                750000 non-null  int64  \n",
            "dtypes: float64(15), int64(21), object(5)\n",
            "memory usage: 234.6+ MB\n"
          ]
        }
      ]
    },
    {
      "cell_type": "code",
      "source": [
        "data.describe()"
      ],
      "metadata": {
        "colab": {
          "base_uri": "https://localhost:8080/",
          "height": 394
        },
        "id": "qYmPXOw2-9yK",
        "outputId": "8d2ff00d-9280-43d7-adca-cae3d14c1c4e"
      },
      "execution_count": null,
      "outputs": [
        {
          "output_type": "execute_result",
          "data": {
            "text/plain": [
              "             loan_id        user_id     total_loan   year_of_loan  \\\n",
              "count  750000.000000  750000.000000  750000.000000  750000.000000   \n",
              "mean   400033.712168  374999.500000   14419.406533       3.482909   \n",
              "std    230968.542263  216506.495284    8717.343741       0.855931   \n",
              "min         0.000000       0.000000     500.000000       3.000000   \n",
              "25%    199923.750000  187499.750000    8000.000000       3.000000   \n",
              "50%    400077.500000  374999.500000   12000.000000       3.000000   \n",
              "75%    600051.250000  562499.250000   20000.000000       3.000000   \n",
              "max    799999.000000  749999.000000   40000.000000       5.000000   \n",
              "\n",
              "            interest  monthly_payment  employment_grade    house_exist  \\\n",
              "count  750000.000000    750000.000000     750000.000000  750000.000000   \n",
              "mean       13.240062       438.032920          1.888599       0.614275   \n",
              "std         4.767528       261.513407          2.087753       0.675669   \n",
              "min         5.310000        15.690000          0.000000       0.000000   \n",
              "25%         9.750000       248.450000          0.000000       0.000000   \n",
              "50%        12.740000       375.160000          1.000000       1.000000   \n",
              "75%        15.990000       580.730000          3.000000       1.000000   \n",
              "max        30.990000      1715.420000          9.000000       5.000000   \n",
              "\n",
              "       house_loan_status        salary  ...  initial_list_status  \\\n",
              "count      750000.000000  7.500000e+05  ...        750000.000000   \n",
              "mean            0.594845  7.611840e+04  ...             0.417179   \n",
              "std             0.675966  6.858267e+04  ...             0.493093   \n",
              "min             0.000000  0.000000e+00  ...             0.000000   \n",
              "25%             0.000000  4.560000e+04  ...             0.000000   \n",
              "50%             0.000000  6.500000e+04  ...             0.000000   \n",
              "75%             1.000000  9.000000e+04  ...             1.000000   \n",
              "max             2.000000  1.099920e+07  ...             1.000000   \n",
              "\n",
              "               title  policy_code             f0             f1  \\\n",
              "count  749999.000000     750000.0  712202.000000  684589.000000   \n",
              "mean     1753.212240          1.0       5.592246       0.000805   \n",
              "std      7939.716437          0.0       3.216788       0.030010   \n",
              "min         0.000000          1.0       0.000000       0.000000   \n",
              "25%         0.000000          1.0       3.000000       0.000000   \n",
              "50%         1.000000          1.0       5.000000       0.000000   \n",
              "75%         5.000000          1.0       7.000000       0.000000   \n",
              "max     61680.000000          1.0      45.000000       4.000000   \n",
              "\n",
              "                  f2             f3             f4             f5  \\\n",
              "count  712202.000000  712201.000000  712202.000000  712202.000000   \n",
              "mean        8.577430      14.624197       8.110185       0.511900   \n",
              "std         7.403955       8.125875       4.800043       1.332783   \n",
              "min         0.000000       1.000000       0.000000       0.000000   \n",
              "25%         4.000000       9.000000       5.000000       0.000000   \n",
              "50%         7.000000      13.000000       7.000000       0.000000   \n",
              "75%        11.000000      19.000000      11.000000       0.000000   \n",
              "max       132.000000     128.000000      70.000000      51.000000   \n",
              "\n",
              "          is_default  \n",
              "count  750000.000000  \n",
              "mean        0.199564  \n",
              "std         0.399673  \n",
              "min         0.000000  \n",
              "25%         0.000000  \n",
              "50%         0.000000  \n",
              "75%         0.000000  \n",
              "max         1.000000  \n",
              "\n",
              "[8 rows x 36 columns]"
            ],
            "text/html": [
              "\n",
              "  <div id=\"df-73a27dc4-772f-4a3b-88a0-cf533a679905\">\n",
              "    <div class=\"colab-df-container\">\n",
              "      <div>\n",
              "<style scoped>\n",
              "    .dataframe tbody tr th:only-of-type {\n",
              "        vertical-align: middle;\n",
              "    }\n",
              "\n",
              "    .dataframe tbody tr th {\n",
              "        vertical-align: top;\n",
              "    }\n",
              "\n",
              "    .dataframe thead th {\n",
              "        text-align: right;\n",
              "    }\n",
              "</style>\n",
              "<table border=\"1\" class=\"dataframe\">\n",
              "  <thead>\n",
              "    <tr style=\"text-align: right;\">\n",
              "      <th></th>\n",
              "      <th>loan_id</th>\n",
              "      <th>user_id</th>\n",
              "      <th>total_loan</th>\n",
              "      <th>year_of_loan</th>\n",
              "      <th>interest</th>\n",
              "      <th>monthly_payment</th>\n",
              "      <th>employment_grade</th>\n",
              "      <th>house_exist</th>\n",
              "      <th>house_loan_status</th>\n",
              "      <th>salary</th>\n",
              "      <th>...</th>\n",
              "      <th>initial_list_status</th>\n",
              "      <th>title</th>\n",
              "      <th>policy_code</th>\n",
              "      <th>f0</th>\n",
              "      <th>f1</th>\n",
              "      <th>f2</th>\n",
              "      <th>f3</th>\n",
              "      <th>f4</th>\n",
              "      <th>f5</th>\n",
              "      <th>is_default</th>\n",
              "    </tr>\n",
              "  </thead>\n",
              "  <tbody>\n",
              "    <tr>\n",
              "      <th>count</th>\n",
              "      <td>750000.000000</td>\n",
              "      <td>750000.000000</td>\n",
              "      <td>750000.000000</td>\n",
              "      <td>750000.000000</td>\n",
              "      <td>750000.000000</td>\n",
              "      <td>750000.000000</td>\n",
              "      <td>750000.000000</td>\n",
              "      <td>750000.000000</td>\n",
              "      <td>750000.000000</td>\n",
              "      <td>7.500000e+05</td>\n",
              "      <td>...</td>\n",
              "      <td>750000.000000</td>\n",
              "      <td>749999.000000</td>\n",
              "      <td>750000.0</td>\n",
              "      <td>712202.000000</td>\n",
              "      <td>684589.000000</td>\n",
              "      <td>712202.000000</td>\n",
              "      <td>712201.000000</td>\n",
              "      <td>712202.000000</td>\n",
              "      <td>712202.000000</td>\n",
              "      <td>750000.000000</td>\n",
              "    </tr>\n",
              "    <tr>\n",
              "      <th>mean</th>\n",
              "      <td>400033.712168</td>\n",
              "      <td>374999.500000</td>\n",
              "      <td>14419.406533</td>\n",
              "      <td>3.482909</td>\n",
              "      <td>13.240062</td>\n",
              "      <td>438.032920</td>\n",
              "      <td>1.888599</td>\n",
              "      <td>0.614275</td>\n",
              "      <td>0.594845</td>\n",
              "      <td>7.611840e+04</td>\n",
              "      <td>...</td>\n",
              "      <td>0.417179</td>\n",
              "      <td>1753.212240</td>\n",
              "      <td>1.0</td>\n",
              "      <td>5.592246</td>\n",
              "      <td>0.000805</td>\n",
              "      <td>8.577430</td>\n",
              "      <td>14.624197</td>\n",
              "      <td>8.110185</td>\n",
              "      <td>0.511900</td>\n",
              "      <td>0.199564</td>\n",
              "    </tr>\n",
              "    <tr>\n",
              "      <th>std</th>\n",
              "      <td>230968.542263</td>\n",
              "      <td>216506.495284</td>\n",
              "      <td>8717.343741</td>\n",
              "      <td>0.855931</td>\n",
              "      <td>4.767528</td>\n",
              "      <td>261.513407</td>\n",
              "      <td>2.087753</td>\n",
              "      <td>0.675669</td>\n",
              "      <td>0.675966</td>\n",
              "      <td>6.858267e+04</td>\n",
              "      <td>...</td>\n",
              "      <td>0.493093</td>\n",
              "      <td>7939.716437</td>\n",
              "      <td>0.0</td>\n",
              "      <td>3.216788</td>\n",
              "      <td>0.030010</td>\n",
              "      <td>7.403955</td>\n",
              "      <td>8.125875</td>\n",
              "      <td>4.800043</td>\n",
              "      <td>1.332783</td>\n",
              "      <td>0.399673</td>\n",
              "    </tr>\n",
              "    <tr>\n",
              "      <th>min</th>\n",
              "      <td>0.000000</td>\n",
              "      <td>0.000000</td>\n",
              "      <td>500.000000</td>\n",
              "      <td>3.000000</td>\n",
              "      <td>5.310000</td>\n",
              "      <td>15.690000</td>\n",
              "      <td>0.000000</td>\n",
              "      <td>0.000000</td>\n",
              "      <td>0.000000</td>\n",
              "      <td>0.000000e+00</td>\n",
              "      <td>...</td>\n",
              "      <td>0.000000</td>\n",
              "      <td>0.000000</td>\n",
              "      <td>1.0</td>\n",
              "      <td>0.000000</td>\n",
              "      <td>0.000000</td>\n",
              "      <td>0.000000</td>\n",
              "      <td>1.000000</td>\n",
              "      <td>0.000000</td>\n",
              "      <td>0.000000</td>\n",
              "      <td>0.000000</td>\n",
              "    </tr>\n",
              "    <tr>\n",
              "      <th>25%</th>\n",
              "      <td>199923.750000</td>\n",
              "      <td>187499.750000</td>\n",
              "      <td>8000.000000</td>\n",
              "      <td>3.000000</td>\n",
              "      <td>9.750000</td>\n",
              "      <td>248.450000</td>\n",
              "      <td>0.000000</td>\n",
              "      <td>0.000000</td>\n",
              "      <td>0.000000</td>\n",
              "      <td>4.560000e+04</td>\n",
              "      <td>...</td>\n",
              "      <td>0.000000</td>\n",
              "      <td>0.000000</td>\n",
              "      <td>1.0</td>\n",
              "      <td>3.000000</td>\n",
              "      <td>0.000000</td>\n",
              "      <td>4.000000</td>\n",
              "      <td>9.000000</td>\n",
              "      <td>5.000000</td>\n",
              "      <td>0.000000</td>\n",
              "      <td>0.000000</td>\n",
              "    </tr>\n",
              "    <tr>\n",
              "      <th>50%</th>\n",
              "      <td>400077.500000</td>\n",
              "      <td>374999.500000</td>\n",
              "      <td>12000.000000</td>\n",
              "      <td>3.000000</td>\n",
              "      <td>12.740000</td>\n",
              "      <td>375.160000</td>\n",
              "      <td>1.000000</td>\n",
              "      <td>1.000000</td>\n",
              "      <td>0.000000</td>\n",
              "      <td>6.500000e+04</td>\n",
              "      <td>...</td>\n",
              "      <td>0.000000</td>\n",
              "      <td>1.000000</td>\n",
              "      <td>1.0</td>\n",
              "      <td>5.000000</td>\n",
              "      <td>0.000000</td>\n",
              "      <td>7.000000</td>\n",
              "      <td>13.000000</td>\n",
              "      <td>7.000000</td>\n",
              "      <td>0.000000</td>\n",
              "      <td>0.000000</td>\n",
              "    </tr>\n",
              "    <tr>\n",
              "      <th>75%</th>\n",
              "      <td>600051.250000</td>\n",
              "      <td>562499.250000</td>\n",
              "      <td>20000.000000</td>\n",
              "      <td>3.000000</td>\n",
              "      <td>15.990000</td>\n",
              "      <td>580.730000</td>\n",
              "      <td>3.000000</td>\n",
              "      <td>1.000000</td>\n",
              "      <td>1.000000</td>\n",
              "      <td>9.000000e+04</td>\n",
              "      <td>...</td>\n",
              "      <td>1.000000</td>\n",
              "      <td>5.000000</td>\n",
              "      <td>1.0</td>\n",
              "      <td>7.000000</td>\n",
              "      <td>0.000000</td>\n",
              "      <td>11.000000</td>\n",
              "      <td>19.000000</td>\n",
              "      <td>11.000000</td>\n",
              "      <td>0.000000</td>\n",
              "      <td>0.000000</td>\n",
              "    </tr>\n",
              "    <tr>\n",
              "      <th>max</th>\n",
              "      <td>799999.000000</td>\n",
              "      <td>749999.000000</td>\n",
              "      <td>40000.000000</td>\n",
              "      <td>5.000000</td>\n",
              "      <td>30.990000</td>\n",
              "      <td>1715.420000</td>\n",
              "      <td>9.000000</td>\n",
              "      <td>5.000000</td>\n",
              "      <td>2.000000</td>\n",
              "      <td>1.099920e+07</td>\n",
              "      <td>...</td>\n",
              "      <td>1.000000</td>\n",
              "      <td>61680.000000</td>\n",
              "      <td>1.0</td>\n",
              "      <td>45.000000</td>\n",
              "      <td>4.000000</td>\n",
              "      <td>132.000000</td>\n",
              "      <td>128.000000</td>\n",
              "      <td>70.000000</td>\n",
              "      <td>51.000000</td>\n",
              "      <td>1.000000</td>\n",
              "    </tr>\n",
              "  </tbody>\n",
              "</table>\n",
              "<p>8 rows × 36 columns</p>\n",
              "</div>\n",
              "      <button class=\"colab-df-convert\" onclick=\"convertToInteractive('df-73a27dc4-772f-4a3b-88a0-cf533a679905')\"\n",
              "              title=\"Convert this dataframe to an interactive table.\"\n",
              "              style=\"display:none;\">\n",
              "        \n",
              "  <svg xmlns=\"http://www.w3.org/2000/svg\" height=\"24px\"viewBox=\"0 0 24 24\"\n",
              "       width=\"24px\">\n",
              "    <path d=\"M0 0h24v24H0V0z\" fill=\"none\"/>\n",
              "    <path d=\"M18.56 5.44l.94 2.06.94-2.06 2.06-.94-2.06-.94-.94-2.06-.94 2.06-2.06.94zm-11 1L8.5 8.5l.94-2.06 2.06-.94-2.06-.94L8.5 2.5l-.94 2.06-2.06.94zm10 10l.94 2.06.94-2.06 2.06-.94-2.06-.94-.94-2.06-.94 2.06-2.06.94z\"/><path d=\"M17.41 7.96l-1.37-1.37c-.4-.4-.92-.59-1.43-.59-.52 0-1.04.2-1.43.59L10.3 9.45l-7.72 7.72c-.78.78-.78 2.05 0 2.83L4 21.41c.39.39.9.59 1.41.59.51 0 1.02-.2 1.41-.59l7.78-7.78 2.81-2.81c.8-.78.8-2.07 0-2.86zM5.41 20L4 18.59l7.72-7.72 1.47 1.35L5.41 20z\"/>\n",
              "  </svg>\n",
              "      </button>\n",
              "      \n",
              "  <style>\n",
              "    .colab-df-container {\n",
              "      display:flex;\n",
              "      flex-wrap:wrap;\n",
              "      gap: 12px;\n",
              "    }\n",
              "\n",
              "    .colab-df-convert {\n",
              "      background-color: #E8F0FE;\n",
              "      border: none;\n",
              "      border-radius: 50%;\n",
              "      cursor: pointer;\n",
              "      display: none;\n",
              "      fill: #1967D2;\n",
              "      height: 32px;\n",
              "      padding: 0 0 0 0;\n",
              "      width: 32px;\n",
              "    }\n",
              "\n",
              "    .colab-df-convert:hover {\n",
              "      background-color: #E2EBFA;\n",
              "      box-shadow: 0px 1px 2px rgba(60, 64, 67, 0.3), 0px 1px 3px 1px rgba(60, 64, 67, 0.15);\n",
              "      fill: #174EA6;\n",
              "    }\n",
              "\n",
              "    [theme=dark] .colab-df-convert {\n",
              "      background-color: #3B4455;\n",
              "      fill: #D2E3FC;\n",
              "    }\n",
              "\n",
              "    [theme=dark] .colab-df-convert:hover {\n",
              "      background-color: #434B5C;\n",
              "      box-shadow: 0px 1px 3px 1px rgba(0, 0, 0, 0.15);\n",
              "      filter: drop-shadow(0px 1px 2px rgba(0, 0, 0, 0.3));\n",
              "      fill: #FFFFFF;\n",
              "    }\n",
              "  </style>\n",
              "\n",
              "      <script>\n",
              "        const buttonEl =\n",
              "          document.querySelector('#df-73a27dc4-772f-4a3b-88a0-cf533a679905 button.colab-df-convert');\n",
              "        buttonEl.style.display =\n",
              "          google.colab.kernel.accessAllowed ? 'block' : 'none';\n",
              "\n",
              "        async function convertToInteractive(key) {\n",
              "          const element = document.querySelector('#df-73a27dc4-772f-4a3b-88a0-cf533a679905');\n",
              "          const dataTable =\n",
              "            await google.colab.kernel.invokeFunction('convertToInteractive',\n",
              "                                                     [key], {});\n",
              "          if (!dataTable) return;\n",
              "\n",
              "          const docLinkHtml = 'Like what you see? Visit the ' +\n",
              "            '<a target=\"_blank\" href=https://colab.research.google.com/notebooks/data_table.ipynb>data table notebook</a>'\n",
              "            + ' to learn more about interactive tables.';\n",
              "          element.innerHTML = '';\n",
              "          dataTable['output_type'] = 'display_data';\n",
              "          await google.colab.output.renderOutput(dataTable, element);\n",
              "          const docLink = document.createElement('div');\n",
              "          docLink.innerHTML = docLinkHtml;\n",
              "          element.appendChild(docLink);\n",
              "        }\n",
              "      </script>\n",
              "    </div>\n",
              "  </div>\n",
              "  "
            ]
          },
          "metadata": {},
          "execution_count": 6
        }
      ]
    },
    {
      "cell_type": "code",
      "source": [
        "#Checking the Class Ratio\n",
        "print('Percent Class 0 -',round((data['is_default'].value_counts()/len(data))[0]*100,2),'%')\n",
        "print('Percent Class 1 -',round((data['is_default'].value_counts()/len(data))[1]*100,2),'%')"
      ],
      "metadata": {
        "colab": {
          "base_uri": "https://localhost:8080/"
        },
        "id": "XVPPn7fn_C9S",
        "outputId": "c46689a1-ebb6-4979-ab0f-f18198530358"
      },
      "execution_count": null,
      "outputs": [
        {
          "output_type": "stream",
          "name": "stdout",
          "text": [
            "Percent Class 0 - 80.04 %\n",
            "Percent Class 1 - 19.96 %\n"
          ]
        }
      ]
    },
    {
      "cell_type": "code",
      "source": [
        "plt.figure(figsize=(14,12))\n",
        "sns.heatmap(data.corr())"
      ],
      "metadata": {
        "colab": {
          "base_uri": "https://localhost:8080/",
          "height": 849
        },
        "id": "mO0PCLKvEFIK",
        "outputId": "22f6a212-67bf-4515-d192-beb9daf44446"
      },
      "execution_count": null,
      "outputs": [
        {
          "output_type": "execute_result",
          "data": {
            "text/plain": [
              "<matplotlib.axes._subplots.AxesSubplot at 0x7f8f3ffd2f10>"
            ]
          },
          "metadata": {},
          "execution_count": 8
        },
        {
          "output_type": "display_data",
          "data": {
            "text/plain": [
              "<Figure size 1008x864 with 2 Axes>"
            ],
            "image/png": "[encoded data removed]"
          },
          "metadata": {
            "needs_background": "light"
          }
        }
      ]
    },
    {
      "cell_type": "code",
      "source": [
        "# Checking the policy_code feature\n",
        "\n",
        "data['policy_code'].value_counts()"
      ],
      "metadata": {
        "colab": {
          "base_uri": "https://localhost:8080/"
        },
        "id": "V1cZuGSm1QtW",
        "outputId": "8812f7c2-dae2-48f7-f30c-7d5a91b21d60"
      },
      "execution_count": null,
      "outputs": [
        {
          "output_type": "execute_result",
          "data": {
            "text/plain": [
              "1    750000\n",
              "Name: policy_code, dtype: int64"
            ]
          },
          "metadata": {},
          "execution_count": 9
        }
      ]
    },
    {
      "cell_type": "code",
      "source": [
        "data.drop('policy_code',axis=1,inplace=True)  # Drop this column because it contains only one value which shows no pattern"
      ],
      "metadata": {
        "id": "IZwxmNsNBx1K"
      },
      "execution_count": null,
      "outputs": []
    },
    {
      "cell_type": "markdown",
      "source": [
        "## **Data Cleaning**"
      ],
      "metadata": {
        "id": "a5vpA9-CvDaN"
      }
    },
    {
      "cell_type": "markdown",
      "source": [
        "### Null Values"
      ],
      "metadata": {
        "id": "J4FNALo71fdT"
      }
    },
    {
      "cell_type": "code",
      "source": [
        "nulval = data.isnull().sum().to_frame().rename(columns={0:\"absolute\"})\n",
        "nulval[\"percent\"] = (nulval.apply(lambda x: x/x.sum())*100).round(2)\n",
        "nulval"
      ],
      "metadata": {
        "colab": {
          "base_uri": "https://localhost:8080/",
          "height": 1000
        },
        "id": "liquw0dq2Wn_",
        "outputId": "c9f6ce2c-fc2b-4001-969b-7db4c6d42dae"
      },
      "execution_count": null,
      "outputs": [
        {
          "output_type": "execute_result",
          "data": {
            "text/plain": [
              "                          absolute  percent\n",
              "loan_id                          0     0.00\n",
              "user_id                          0     0.00\n",
              "total_loan                       0     0.00\n",
              "year_of_loan                     0     0.00\n",
              "interest                         0     0.00\n",
              "monthly_payment                  0     0.00\n",
              "class                            0     0.00\n",
              "sub_class                        0     0.00\n",
              "employment_grade                 0     0.00\n",
              "work_year                    43847    14.65\n",
              "house_exist                      0     0.00\n",
              "house_loan_status                0     0.00\n",
              "salary                           0     0.00\n",
              "censor_status                    0     0.00\n",
              "marriage                         0     0.00\n",
              "offsprings                       0     0.00\n",
              "issue_date                       0     0.00\n",
              "use                              0     0.00\n",
              "post_code                        1     0.00\n",
              "region                           0     0.00\n",
              "debt_loan_ratio                230     0.08\n",
              "del_in_18month                   0     0.00\n",
              "scoring_low                      0     0.00\n",
              "scoring_high                     0     0.00\n",
              "pub_dero_bankrup               375     0.13\n",
              "early_return                     0     0.00\n",
              "early_return_amount              0     0.00\n",
              "early_return_amount_3mon         0     0.00\n",
              "recircle_b                       0     0.00\n",
              "recircle_u                     489     0.16\n",
              "initial_list_status              0     0.00\n",
              "earlies_credit_mon               0     0.00\n",
              "title                            1     0.00\n",
              "f0                           37798    12.63\n",
              "f1                           65411    21.85\n",
              "f2                           37798    12.63\n",
              "f3                           37799    12.63\n",
              "f4                           37798    12.63\n",
              "f5                           37798    12.63\n",
              "is_default                       0     0.00"
            ],
            "text/html": [
              "\n",
              "  <div id=\"df-5a4028f5-46be-4d73-8991-553cd3acd10e\">\n",
              "    <div class=\"colab-df-container\">\n",
              "      <div>\n",
              "<style scoped>\n",
              "    .dataframe tbody tr th:only-of-type {\n",
              "        vertical-align: middle;\n",
              "    }\n",
              "\n",
              "    .dataframe tbody tr th {\n",
              "        vertical-align: top;\n",
              "    }\n",
              "\n",
              "    .dataframe thead th {\n",
              "        text-align: right;\n",
              "    }\n",
              "</style>\n",
              "<table border=\"1\" class=\"dataframe\">\n",
              "  <thead>\n",
              "    <tr style=\"text-align: right;\">\n",
              "      <th></th>\n",
              "      <th>absolute</th>\n",
              "      <th>percent</th>\n",
              "    </tr>\n",
              "  </thead>\n",
              "  <tbody>\n",
              "    <tr>\n",
              "      <th>loan_id</th>\n",
              "      <td>0</td>\n",
              "      <td>0.00</td>\n",
              "    </tr>\n",
              "    <tr>\n",
              "      <th>user_id</th>\n",
              "      <td>0</td>\n",
              "      <td>0.00</td>\n",
              "    </tr>\n",
              "    <tr>\n",
              "      <th>total_loan</th>\n",
              "      <td>0</td>\n",
              "      <td>0.00</td>\n",
              "    </tr>\n",
              "    <tr>\n",
              "      <th>year_of_loan</th>\n",
              "      <td>0</td>\n",
              "      <td>0.00</td>\n",
              "    </tr>\n",
              "    <tr>\n",
              "      <th>interest</th>\n",
              "      <td>0</td>\n",
              "      <td>0.00</td>\n",
              "    </tr>\n",
              "    <tr>\n",
              "      <th>monthly_payment</th>\n",
              "      <td>0</td>\n",
              "      <td>0.00</td>\n",
              "    </tr>\n",
              "    <tr>\n",
              "      <th>class</th>\n",
              "      <td>0</td>\n",
              "      <td>0.00</td>\n",
              "    </tr>\n",
              "    <tr>\n",
              "      <th>sub_class</th>\n",
              "      <td>0</td>\n",
              "      <td>0.00</td>\n",
              "    </tr>\n",
              "    <tr>\n",
              "      <th>employment_grade</th>\n",
              "      <td>0</td>\n",
              "      <td>0.00</td>\n",
              "    </tr>\n",
              "    <tr>\n",
              "      <th>work_year</th>\n",
              "      <td>43847</td>\n",
              "      <td>14.65</td>\n",
              "    </tr>\n",
              "    <tr>\n",
              "      <th>house_exist</th>\n",
              "      <td>0</td>\n",
              "      <td>0.00</td>\n",
              "    </tr>\n",
              "    <tr>\n",
              "      <th>house_loan_status</th>\n",
              "      <td>0</td>\n",
              "      <td>0.00</td>\n",
              "    </tr>\n",
              "    <tr>\n",
              "      <th>salary</th>\n",
              "      <td>0</td>\n",
              "      <td>0.00</td>\n",
              "    </tr>\n",
              "    <tr>\n",
              "      <th>censor_status</th>\n",
              "      <td>0</td>\n",
              "      <td>0.00</td>\n",
              "    </tr>\n",
              "    <tr>\n",
              "      <th>marriage</th>\n",
              "      <td>0</td>\n",
              "      <td>0.00</td>\n",
              "    </tr>\n",
              "    <tr>\n",
              "      <th>offsprings</th>\n",
              "      <td>0</td>\n",
              "      <td>0.00</td>\n",
              "    </tr>\n",
              "    <tr>\n",
              "      <th>issue_date</th>\n",
              "      <td>0</td>\n",
              "      <td>0.00</td>\n",
              "    </tr>\n",
              "    <tr>\n",
              "      <th>use</th>\n",
              "      <td>0</td>\n",
              "      <td>0.00</td>\n",
              "    </tr>\n",
              "    <tr>\n",
              "      <th>post_code</th>\n",
              "      <td>1</td>\n",
              "      <td>0.00</td>\n",
              "    </tr>\n",
              "    <tr>\n",
              "      <th>region</th>\n",
              "      <td>0</td>\n",
              "      <td>0.00</td>\n",
              "    </tr>\n",
              "    <tr>\n",
              "      <th>debt_loan_ratio</th>\n",
              "      <td>230</td>\n",
              "      <td>0.08</td>\n",
              "    </tr>\n",
              "    <tr>\n",
              "      <th>del_in_18month</th>\n",
              "      <td>0</td>\n",
              "      <td>0.00</td>\n",
              "    </tr>\n",
              "    <tr>\n",
              "      <th>scoring_low</th>\n",
              "      <td>0</td>\n",
              "      <td>0.00</td>\n",
              "    </tr>\n",
              "    <tr>\n",
              "      <th>scoring_high</th>\n",
              "      <td>0</td>\n",
              "      <td>0.00</td>\n",
              "    </tr>\n",
              "    <tr>\n",
              "      <th>pub_dero_bankrup</th>\n",
              "      <td>375</td>\n",
              "      <td>0.13</td>\n",
              "    </tr>\n",
              "    <tr>\n",
              "      <th>early_return</th>\n",
              "      <td>0</td>\n",
              "      <td>0.00</td>\n",
              "    </tr>\n",
              "    <tr>\n",
              "      <th>early_return_amount</th>\n",
              "      <td>0</td>\n",
              "      <td>0.00</td>\n",
              "    </tr>\n",
              "    <tr>\n",
              "      <th>early_return_amount_3mon</th>\n",
              "      <td>0</td>\n",
              "      <td>0.00</td>\n",
              "    </tr>\n",
              "    <tr>\n",
              "      <th>recircle_b</th>\n",
              "      <td>0</td>\n",
              "      <td>0.00</td>\n",
              "    </tr>\n",
              "    <tr>\n",
              "      <th>recircle_u</th>\n",
              "      <td>489</td>\n",
              "      <td>0.16</td>\n",
              "    </tr>\n",
              "    <tr>\n",
              "      <th>initial_list_status</th>\n",
              "      <td>0</td>\n",
              "      <td>0.00</td>\n",
              "    </tr>\n",
              "    <tr>\n",
              "      <th>earlies_credit_mon</th>\n",
              "      <td>0</td>\n",
              "      <td>0.00</td>\n",
              "    </tr>\n",
              "    <tr>\n",
              "      <th>title</th>\n",
              "      <td>1</td>\n",
              "      <td>0.00</td>\n",
              "    </tr>\n",
              "    <tr>\n",
              "      <th>f0</th>\n",
              "      <td>37798</td>\n",
              "      <td>12.63</td>\n",
              "    </tr>\n",
              "    <tr>\n",
              "      <th>f1</th>\n",
              "      <td>65411</td>\n",
              "      <td>21.85</td>\n",
              "    </tr>\n",
              "    <tr>\n",
              "      <th>f2</th>\n",
              "      <td>37798</td>\n",
              "      <td>12.63</td>\n",
              "    </tr>\n",
              "    <tr>\n",
              "      <th>f3</th>\n",
              "      <td>37799</td>\n",
              "      <td>12.63</td>\n",
              "    </tr>\n",
              "    <tr>\n",
              "      <th>f4</th>\n",
              "      <td>37798</td>\n",
              "      <td>12.63</td>\n",
              "    </tr>\n",
              "    <tr>\n",
              "      <th>f5</th>\n",
              "      <td>37798</td>\n",
              "      <td>12.63</td>\n",
              "    </tr>\n",
              "    <tr>\n",
              "      <th>is_default</th>\n",
              "      <td>0</td>\n",
              "      <td>0.00</td>\n",
              "    </tr>\n",
              "  </tbody>\n",
              "</table>\n",
              "</div>\n",
              "      <button class=\"colab-df-convert\" onclick=\"convertToInteractive('df-5a4028f5-46be-4d73-8991-553cd3acd10e')\"\n",
              "              title=\"Convert this dataframe to an interactive table.\"\n",
              "              style=\"display:none;\">\n",
              "        \n",
              "  <svg xmlns=\"http://www.w3.org/2000/svg\" height=\"24px\"viewBox=\"0 0 24 24\"\n",
              "       width=\"24px\">\n",
              "    <path d=\"M0 0h24v24H0V0z\" fill=\"none\"/>\n",
              "    <path d=\"M18.56 5.44l.94 2.06.94-2.06 2.06-.94-2.06-.94-.94-2.06-.94 2.06-2.06.94zm-11 1L8.5 8.5l.94-2.06 2.06-.94-2.06-.94L8.5 2.5l-.94 2.06-2.06.94zm10 10l.94 2.06.94-2.06 2.06-.94-2.06-.94-.94-2.06-.94 2.06-2.06.94z\"/><path d=\"M17.41 7.96l-1.37-1.37c-.4-.4-.92-.59-1.43-.59-.52 0-1.04.2-1.43.59L10.3 9.45l-7.72 7.72c-.78.78-.78 2.05 0 2.83L4 21.41c.39.39.9.59 1.41.59.51 0 1.02-.2 1.41-.59l7.78-7.78 2.81-2.81c.8-.78.8-2.07 0-2.86zM5.41 20L4 18.59l7.72-7.72 1.47 1.35L5.41 20z\"/>\n",
              "  </svg>\n",
              "      </button>\n",
              "      \n",
              "  <style>\n",
              "    .colab-df-container {\n",
              "      display:flex;\n",
              "      flex-wrap:wrap;\n",
              "      gap: 12px;\n",
              "    }\n",
              "\n",
              "    .colab-df-convert {\n",
              "      background-color: #E8F0FE;\n",
              "      border: none;\n",
              "      border-radius: 50%;\n",
              "      cursor: pointer;\n",
              "      display: none;\n",
              "      fill: #1967D2;\n",
              "      height: 32px;\n",
              "      padding: 0 0 0 0;\n",
              "      width: 32px;\n",
              "    }\n",
              "\n",
              "    .colab-df-convert:hover {\n",
              "      background-color: #E2EBFA;\n",
              "      box-shadow: 0px 1px 2px rgba(60, 64, 67, 0.3), 0px 1px 3px 1px rgba(60, 64, 67, 0.15);\n",
              "      fill: #174EA6;\n",
              "    }\n",
              "\n",
              "    [theme=dark] .colab-df-convert {\n",
              "      background-color: #3B4455;\n",
              "      fill: #D2E3FC;\n",
              "    }\n",
              "\n",
              "    [theme=dark] .colab-df-convert:hover {\n",
              "      background-color: #434B5C;\n",
              "      box-shadow: 0px 1px 3px 1px rgba(0, 0, 0, 0.15);\n",
              "      filter: drop-shadow(0px 1px 2px rgba(0, 0, 0, 0.3));\n",
              "      fill: #FFFFFF;\n",
              "    }\n",
              "  </style>\n",
              "\n",
              "      <script>\n",
              "        const buttonEl =\n",
              "          document.querySelector('#df-5a4028f5-46be-4d73-8991-553cd3acd10e button.colab-df-convert');\n",
              "        buttonEl.style.display =\n",
              "          google.colab.kernel.accessAllowed ? 'block' : 'none';\n",
              "\n",
              "        async function convertToInteractive(key) {\n",
              "          const element = document.querySelector('#df-5a4028f5-46be-4d73-8991-553cd3acd10e');\n",
              "          const dataTable =\n",
              "            await google.colab.kernel.invokeFunction('convertToInteractive',\n",
              "                                                     [key], {});\n",
              "          if (!dataTable) return;\n",
              "\n",
              "          const docLinkHtml = 'Like what you see? Visit the ' +\n",
              "            '<a target=\"_blank\" href=https://colab.research.google.com/notebooks/data_table.ipynb>data table notebook</a>'\n",
              "            + ' to learn more about interactive tables.';\n",
              "          element.innerHTML = '';\n",
              "          dataTable['output_type'] = 'display_data';\n",
              "          await google.colab.output.renderOutput(dataTable, element);\n",
              "          const docLink = document.createElement('div');\n",
              "          docLink.innerHTML = docLinkHtml;\n",
              "          element.appendChild(docLink);\n",
              "        }\n",
              "      </script>\n",
              "    </div>\n",
              "  </div>\n",
              "  "
            ]
          },
          "metadata": {},
          "execution_count": 11
        }
      ]
    },
    {
      "cell_type": "markdown",
      "source": [
        "##### Columns with missing values - \n",
        "#####'work_year' , 'debt_loan_ratio' , 'pub_dero_bankrup' ,'post_code', 'recircle_u' , 'title' , 'policy_code', 'f0', 'f1', 'f2', 'f3', 'f4', 'f5'"
      ],
      "metadata": {
        "id": "Pg8miLxWSUZ8"
      }
    },
    {
      "cell_type": "code",
      "source": [
        "# Mode of categorical type columns\n",
        "\n",
        "print(data['work_year'].mode())\n",
        "print(data['pub_dero_bankrup'].mode())"
      ],
      "metadata": {
        "colab": {
          "base_uri": "https://localhost:8080/"
        },
        "id": "T1BddH526shB",
        "outputId": "22458bd8-1fe9-4bba-8425-2bbc3cfbe2fe"
      },
      "execution_count": null,
      "outputs": [
        {
          "output_type": "stream",
          "name": "stdout",
          "text": [
            "0    10+ years\n",
            "dtype: object\n",
            "0    0.0\n",
            "dtype: float64\n"
          ]
        }
      ]
    },
    {
      "cell_type": "code",
      "source": [
        "# Imputing the missing values with mode of categorical type columns \n",
        "\n",
        "data['work_year'].replace(to_replace = np.nan,value = '10+ years',inplace=True) # Fill the nan values with '10+ years'\n",
        "data['pub_dero_bankrup'].replace(to_replace = np.nan,value = 0,inplace=True)  # Fill the nan values with 0"
      ],
      "metadata": {
        "id": "a1V2AvAD6WQv"
      },
      "execution_count": null,
      "outputs": []
    },
    {
      "cell_type": "code",
      "source": [
        "# Imputing the missing values with median of Numerical type columns \n",
        "\n",
        "columns_num = ['debt_loan_ratio','recircle_u','title','post_code','f0','f1','f2','f3','f4','f5']\n",
        "\n",
        "for i in columns_num:\n",
        "  data[i].fillna(value=data[i].median(),inplace=True) # Fill the nan values with median"
      ],
      "metadata": {
        "id": "xNLbSDGJ6B9Z"
      },
      "execution_count": null,
      "outputs": []
    },
    {
      "cell_type": "code",
      "source": [
        ""
      ],
      "metadata": {
        "id": "MWtfxd3k3Shq"
      },
      "execution_count": null,
      "outputs": []
    },
    {
      "cell_type": "markdown",
      "source": [
        "## **Features Analysis**"
      ],
      "metadata": {
        "id": "pxZU6uNs3TAI"
      }
    },
    {
      "cell_type": "code",
      "source": [
        "#Plotting the histogram of every column to get the basic idea of features\n",
        "\n",
        "data.hist(figsize=(15,16), bins=20, ec=\"b\", xlabelsize=8, ylabelsize=8, alpha=0.9, grid=False)\n",
        "plt.tight_layout()\n",
        "plt.show()"
      ],
      "metadata": {
        "colab": {
          "base_uri": "https://localhost:8080/",
          "height": 1000
        },
        "id": "ski9g_mlDNSW",
        "outputId": "3a3c8ada-f0c9-4544-b8ba-fe519228a697"
      },
      "execution_count": null,
      "outputs": [
        {
          "output_type": "display_data",
          "data": {
            "text/plain": [
              "<Figure size 1080x1152 with 36 Axes>"
            ],
            "image/png": "[encoded data removed]"
          },
          "metadata": {
            "needs_background": "light"
          }
        }
      ]
    },
    {
      "cell_type": "code",
      "source": [
        ""
      ],
      "metadata": {
        "id": "a0Yg-Nue8Wr9"
      },
      "execution_count": null,
      "outputs": []
    },
    {
      "cell_type": "code",
      "source": [
        "sns.distplot(data['total_loan'])  # It is a Continuous Numerical Type of Column"
      ],
      "metadata": {
        "id": "rIUuotuTUTbP",
        "colab": {
          "base_uri": "https://localhost:8080/",
          "height": 298
        },
        "outputId": "ffd8c28f-8f5f-49d0-fa5d-1b5da698629d"
      },
      "execution_count": null,
      "outputs": [
        {
          "output_type": "execute_result",
          "data": {
            "text/plain": [
              "<matplotlib.axes._subplots.AxesSubplot at 0x7f3d350fa250>"
            ]
          },
          "metadata": {},
          "execution_count": 60
        },
        {
          "output_type": "display_data",
          "data": {
            "text/plain": [
              "<Figure size 432x288 with 1 Axes>"
            ],
            "image/png": "[encoded data removed]"
          },
          "metadata": {
            "needs_background": "light"
          }
        }
      ]
    },
    {
      "cell_type": "code",
      "source": [
        "# Work Year\n",
        "\n",
        "data['work_year'].value_counts() # It is a Categorical Type of Column"
      ],
      "metadata": {
        "colab": {
          "base_uri": "https://localhost:8080/"
        },
        "id": "myCSW_wFKkqV",
        "outputId": "f080ba2c-8d1a-4246-f41c-cb7c72b26ee1"
      },
      "execution_count": null,
      "outputs": [
        {
          "output_type": "execute_result",
          "data": {
            "text/plain": [
              "10+ years    290073\n",
              "2 years       67987\n",
              "< 1 year      60198\n",
              "3 years       60128\n",
              "1 year        49204\n",
              "5 years       47027\n",
              "4 years       45037\n",
              "6 years       34910\n",
              "8 years       33857\n",
              "7 years       33200\n",
              "9 years       28379\n",
              "Name: work_year, dtype: int64"
            ]
          },
          "metadata": {},
          "execution_count": 57
        }
      ]
    },
    {
      "cell_type": "code",
      "source": [
        "sns.distplot(data['salary'])    # It is a Continuous Numerical Type of Column"
      ],
      "metadata": {
        "colab": {
          "base_uri": "https://localhost:8080/",
          "height": 308
        },
        "outputId": "ff12b458-ca2f-423a-f991-ab86c75428bb",
        "id": "g7v8w7yh7T9T"
      },
      "execution_count": null,
      "outputs": [
        {
          "output_type": "execute_result",
          "data": {
            "text/plain": [
              "<matplotlib.axes._subplots.AxesSubplot at 0x7fb14d7658d0>"
            ]
          },
          "metadata": {},
          "execution_count": 51
        },
        {
          "output_type": "display_data",
          "data": {
            "text/plain": [
              "<Figure size 432x288 with 1 Axes>"
            ],
            "image/png": "[encoded data removed]"
          },
          "metadata": {
            "needs_background": "light"
          }
        }
      ]
    },
    {
      "cell_type": "code",
      "source": [
        "data['use'].value_counts()  # It is a Categorical Type of Column"
      ],
      "metadata": {
        "colab": {
          "base_uri": "https://localhost:8080/"
        },
        "id": "93kkahj3MI8s",
        "outputId": "f46930ae-737e-472e-d8c6-2ba814252015"
      },
      "execution_count": null,
      "outputs": [
        {
          "output_type": "execute_result",
          "data": {
            "text/plain": [
              "0     435098\n",
              "4     164467\n",
              "2      48896\n",
              "5      43384\n",
              "3      16465\n",
              "9       8666\n",
              "1       8532\n",
              "8       8126\n",
              "10      5280\n",
              "7       5039\n",
              "6       4070\n",
              "12      1272\n",
              "11       523\n",
              "13       182\n",
              "Name: use, dtype: int64"
            ]
          },
          "metadata": {},
          "execution_count": 55
        }
      ]
    },
    {
      "cell_type": "code",
      "source": [
        "data['region'].value_counts()  # It is a Categorical Type of Column"
      ],
      "metadata": {
        "colab": {
          "base_uri": "https://localhost:8080/"
        },
        "id": "HgJiJJ8fMSf0",
        "outputId": "0cf2451c-4bc7-4f35-9ef5-d5ed827198c2"
      },
      "execution_count": null,
      "outputs": [
        {
          "output_type": "execute_result",
          "data": {
            "text/plain": [
              "8     109597\n",
              "14     61683\n",
              "13     60995\n",
              "21     53295\n",
              "2      28601\n",
              "30     26873\n",
              "0      25461\n",
              "19     24543\n",
              "3      24141\n",
              "9      21477\n",
              "7      21122\n",
              "23     19660\n",
              "10     18396\n",
              "12     17346\n",
              "26     17252\n",
              "22     16631\n",
              "18     16233\n",
              "4      13269\n",
              "11     12150\n",
              "24     11975\n",
              "32     11310\n",
              "38     11238\n",
              "36     10905\n",
              "27      9879\n",
              "17      9232\n",
              "35      9045\n",
              "5       8983\n",
              "20      8518\n",
              "43      7190\n",
              "42      6834\n",
              "15      6224\n",
              "37      5632\n",
              "45      5544\n",
              "16      4019\n",
              "28      3810\n",
              "44      3724\n",
              "33      3570\n",
              "6       3275\n",
              "39      2755\n",
              "40      2139\n",
              "31      2119\n",
              "34      2008\n",
              "25      1959\n",
              "48      1772\n",
              "41      1657\n",
              "1       1517\n",
              "29      1455\n",
              "47      1135\n",
              "49       956\n",
              "46       891\n",
              "50         5\n",
              "Name: region, dtype: int64"
            ]
          },
          "metadata": {},
          "execution_count": 61
        }
      ]
    },
    {
      "cell_type": "code",
      "source": [
        "sns.distplot(data['debt_loan_ratio'])  # It is a Continuous Numerical Type of Column"
      ],
      "metadata": {
        "colab": {
          "base_uri": "https://localhost:8080/",
          "height": 299
        },
        "outputId": "cfeff388-9e4e-41a8-8622-f207294061bb",
        "id": "ax94kQlI7kPi"
      },
      "execution_count": null,
      "outputs": [
        {
          "output_type": "execute_result",
          "data": {
            "text/plain": [
              "<matplotlib.axes._subplots.AxesSubplot at 0x7fb14d4d81d0>"
            ]
          },
          "metadata": {},
          "execution_count": 62
        },
        {
          "output_type": "display_data",
          "data": {
            "text/plain": [
              "<Figure size 432x288 with 1 Axes>"
            ],
            "image/png": "[encoded data removed]"
          },
          "metadata": {
            "needs_background": "light"
          }
        }
      ]
    },
    {
      "cell_type": "code",
      "source": [
        "sns.distplot(data['del_in_18month'])   # It is a Continuous Numerical Type of Column"
      ],
      "metadata": {
        "colab": {
          "base_uri": "https://localhost:8080/",
          "height": 299
        },
        "outputId": "897cd096-f4c9-4cf1-9be7-da91dd078d3e",
        "id": "kod6Xcmd7kPj"
      },
      "execution_count": null,
      "outputs": [
        {
          "output_type": "execute_result",
          "data": {
            "text/plain": [
              "<matplotlib.axes._subplots.AxesSubplot at 0x7fb14d86b7d0>"
            ]
          },
          "metadata": {},
          "execution_count": 63
        },
        {
          "output_type": "display_data",
          "data": {
            "text/plain": [
              "<Figure size 432x288 with 1 Axes>"
            ],
            "image/png": "[encoded data removed]"
          },
          "metadata": {
            "needs_background": "light"
          }
        }
      ]
    },
    {
      "cell_type": "code",
      "source": [
        "sns.distplot(data['post_code'])    # It is a Continuous Numerical Type of Column"
      ],
      "metadata": {
        "colab": {
          "base_uri": "https://localhost:8080/",
          "height": 299
        },
        "outputId": "9f68dc00-3afb-45a4-8c48-e775b8352ba4",
        "id": "I-qWJTwU7kPj"
      },
      "execution_count": null,
      "outputs": [
        {
          "output_type": "execute_result",
          "data": {
            "text/plain": [
              "<matplotlib.axes._subplots.AxesSubplot at 0x7fb14d440a50>"
            ]
          },
          "metadata": {},
          "execution_count": 60
        },
        {
          "output_type": "display_data",
          "data": {
            "text/plain": [
              "<Figure size 432x288 with 1 Axes>"
            ],
            "image/png": "[encoded data removed]"
          },
          "metadata": {
            "needs_background": "light"
          }
        }
      ]
    },
    {
      "cell_type": "code",
      "source": [
        "data['scoring_low'].value_counts()  # It is a Categorical Type of Column"
      ],
      "metadata": {
        "colab": {
          "base_uri": "https://localhost:8080/"
        },
        "id": "KcnPJDEbNX4K",
        "outputId": "25ddaf06-451d-4bcd-beac-0d0b8c50a23e"
      },
      "execution_count": null,
      "outputs": [
        {
          "output_type": "execute_result",
          "data": {
            "text/plain": [
              "660    67466\n",
              "670    65559\n",
              "665    65241\n",
              "675    58196\n",
              "680    57375\n",
              "685    50286\n",
              "690    48804\n",
              "695    44107\n",
              "700    40558\n",
              "705    36618\n",
              "710    32110\n",
              "715    28281\n",
              "720    24353\n",
              "725    19478\n",
              "730    17096\n",
              "735    13495\n",
              "740    11821\n",
              "745     9683\n",
              "750     8811\n",
              "755     7665\n",
              "760     6286\n",
              "765     5789\n",
              "770     4966\n",
              "775     4576\n",
              "780     4027\n",
              "785     3258\n",
              "790     3082\n",
              "795     2470\n",
              "800     2109\n",
              "805     1808\n",
              "810     1318\n",
              "815     1047\n",
              "820      791\n",
              "825      597\n",
              "830      386\n",
              "835      242\n",
              "840      132\n",
              "845      112\n",
              "630        1\n",
              "Name: scoring_low, dtype: int64"
            ]
          },
          "metadata": {},
          "execution_count": 66
        }
      ]
    },
    {
      "cell_type": "code",
      "source": [
        "data['scoring_high'].value_counts()  # It is a Categorical Type of Column"
      ],
      "metadata": {
        "colab": {
          "base_uri": "https://localhost:8080/"
        },
        "id": "Ir7Q-TNdNdZC",
        "outputId": "38c2f963-7f6c-42b0-a2ba-61adb2ac106b"
      },
      "execution_count": null,
      "outputs": [
        {
          "output_type": "execute_result",
          "data": {
            "text/plain": [
              "664    67466\n",
              "674    65559\n",
              "669    65241\n",
              "679    58196\n",
              "684    57375\n",
              "689    50286\n",
              "694    48804\n",
              "699    44107\n",
              "704    40558\n",
              "709    36618\n",
              "714    32110\n",
              "719    28281\n",
              "724    24353\n",
              "729    19478\n",
              "734    17096\n",
              "739    13495\n",
              "744    11821\n",
              "749     9683\n",
              "754     8811\n",
              "759     7665\n",
              "764     6286\n",
              "769     5789\n",
              "774     4966\n",
              "779     4576\n",
              "784     4027\n",
              "789     3258\n",
              "794     3082\n",
              "799     2470\n",
              "804     2109\n",
              "809     1808\n",
              "814     1318\n",
              "819     1047\n",
              "824      791\n",
              "829      597\n",
              "834      386\n",
              "839      242\n",
              "844      132\n",
              "850      112\n",
              "634        1\n",
              "Name: scoring_high, dtype: int64"
            ]
          },
          "metadata": {},
          "execution_count": 67
        }
      ]
    },
    {
      "cell_type": "code",
      "source": [
        "data['pub_dero_bankrup'].value_counts()  # It is a Categorical Type of Column"
      ],
      "metadata": {
        "colab": {
          "base_uri": "https://localhost:8080/"
        },
        "id": "V2lU00usOfH2",
        "outputId": "5c5489f2-e29e-4546-a415-bd69fc8d2927"
      },
      "execution_count": null,
      "outputs": [
        {
          "output_type": "execute_result",
          "data": {
            "text/plain": [
              "0.0     656845\n",
              "1.0      87630\n",
              "2.0       4297\n",
              "3.0        880\n",
              "4.0        231\n",
              "5.0         76\n",
              "6.0         23\n",
              "7.0         11\n",
              "8.0          3\n",
              "9.0          3\n",
              "12.0         1\n",
              "Name: pub_dero_bankrup, dtype: int64"
            ]
          },
          "metadata": {},
          "execution_count": 68
        }
      ]
    },
    {
      "cell_type": "code",
      "source": [
        "data['early_return'].value_counts()  # It is a Categorical Type of Column"
      ],
      "metadata": {
        "colab": {
          "base_uri": "https://localhost:8080/"
        },
        "id": "CE36lPvNOsot",
        "outputId": "a3152544-0467-4f54-d8c8-44b9d4483b77"
      },
      "execution_count": null,
      "outputs": [
        {
          "output_type": "execute_result",
          "data": {
            "text/plain": [
              "0     690074\n",
              "2       2164\n",
              "14      2144\n",
              "13      2140\n",
              "22      2128\n",
              "19      2108\n",
              "3       2106\n",
              "20      2103\n",
              "26      2096\n",
              "8       2090\n",
              "5       2085\n",
              "24      2082\n",
              "25      2075\n",
              "27      2069\n",
              "18      2065\n",
              "16      2063\n",
              "10      2061\n",
              "6       2050\n",
              "1       2049\n",
              "7       2045\n",
              "29      2043\n",
              "23      2038\n",
              "9       2038\n",
              "17      2027\n",
              "21      2022\n",
              "28      2019\n",
              "15      2019\n",
              "11      2007\n",
              "4       2001\n",
              "12      1989\n",
              "Name: early_return, dtype: int64"
            ]
          },
          "metadata": {},
          "execution_count": 70
        }
      ]
    },
    {
      "cell_type": "code",
      "source": [
        "sns.distplot(data['early_return_amount'])    # It is a Continuous Numerical Type of Column"
      ],
      "metadata": {
        "colab": {
          "base_uri": "https://localhost:8080/",
          "height": 299
        },
        "outputId": "b6ae1cf4-4ab6-4d06-a79d-3ca2d68ab1cf",
        "id": "8XmHEfsB7sdA"
      },
      "execution_count": null,
      "outputs": [
        {
          "output_type": "execute_result",
          "data": {
            "text/plain": [
              "<matplotlib.axes._subplots.AxesSubplot at 0x7fb14d066bd0>"
            ]
          },
          "metadata": {},
          "execution_count": 77
        },
        {
          "output_type": "display_data",
          "data": {
            "text/plain": [
              "<Figure size 432x288 with 1 Axes>"
            ],
            "image/png": "[encoded data removed]"
          },
          "metadata": {
            "needs_background": "light"
          }
        }
      ]
    },
    {
      "cell_type": "code",
      "source": [
        "sns.distplot(data['early_return_amount_3mon'])    # It is a Continuous Numerical Type of Column"
      ],
      "metadata": {
        "colab": {
          "base_uri": "https://localhost:8080/",
          "height": 299
        },
        "outputId": "625e01c7-bf90-4914-9380-66991964a55c",
        "id": "RHDFS6qQ7sdB"
      },
      "execution_count": null,
      "outputs": [
        {
          "output_type": "execute_result",
          "data": {
            "text/plain": [
              "<matplotlib.axes._subplots.AxesSubplot at 0x7fb14d0854d0>"
            ]
          },
          "metadata": {},
          "execution_count": 78
        },
        {
          "output_type": "display_data",
          "data": {
            "text/plain": [
              "<Figure size 432x288 with 1 Axes>"
            ],
            "image/png": "[encoded data removed]"
          },
          "metadata": {
            "needs_background": "light"
          }
        }
      ]
    },
    {
      "cell_type": "code",
      "source": [
        "data['initial_list_status'].value_counts()  # It is a Categorical Type of Column"
      ],
      "metadata": {
        "colab": {
          "base_uri": "https://localhost:8080/"
        },
        "id": "dFhxkjNEPnp_",
        "outputId": "286ef0ff-f8b8-4964-fbff-2c0d6043aab0"
      },
      "execution_count": null,
      "outputs": [
        {
          "output_type": "execute_result",
          "data": {
            "text/plain": [
              "0    437116\n",
              "1    312884\n",
              "Name: initial_list_status, dtype: int64"
            ]
          },
          "metadata": {},
          "execution_count": 81
        }
      ]
    },
    {
      "cell_type": "code",
      "source": [
        "data['earlies_credit_mon'].value_counts()  # It is a Categorical Type of Column"
      ],
      "metadata": {
        "colab": {
          "base_uri": "https://localhost:8080/"
        },
        "id": "ode6RCR6PwYe",
        "outputId": "4c4a118e-3e0f-4e8a-81ac-a93056968ae3"
      },
      "execution_count": null,
      "outputs": [
        {
          "output_type": "execute_result",
          "data": {
            "text/plain": [
              "Aug-01    5215\n",
              "Aug-02    5065\n",
              "Sep-03    5050\n",
              "Oct-01    4925\n",
              "Sep-04    4909\n",
              "          ... \n",
              "Oct-54       1\n",
              "Oct-57       1\n",
              "Jan-46       1\n",
              "Jun-58       1\n",
              "Feb-60       1\n",
              "Name: earlies_credit_mon, Length: 718, dtype: int64"
            ]
          },
          "metadata": {},
          "execution_count": 82
        }
      ]
    },
    {
      "cell_type": "code",
      "source": [
        "data['issue_date']  # It is a Categorical Type of Column"
      ],
      "metadata": {
        "colab": {
          "base_uri": "https://localhost:8080/"
        },
        "id": "ysufeS2dVqLG",
        "outputId": "c23283a3-b9f4-4fd2-ab4d-eb5cc5035d6b"
      },
      "execution_count": null,
      "outputs": [
        {
          "output_type": "execute_result",
          "data": {
            "text/plain": [
              "0          6/1/2015\n",
              "1         10/1/2010\n",
              "2          8/1/2016\n",
              "3          5/1/2013\n",
              "4          4/1/2017\n",
              "            ...    \n",
              "749995     2/1/2016\n",
              "749996     3/1/2014\n",
              "749997    12/1/2015\n",
              "749998    12/1/2017\n",
              "749999    12/1/2013\n",
              "Name: issue_date, Length: 750000, dtype: object"
            ]
          },
          "metadata": {},
          "execution_count": 89
        }
      ]
    },
    {
      "cell_type": "code",
      "source": [
        "sns.distplot(data['recircle_b'])    # It is a Continuous Numerical Type of Column"
      ],
      "metadata": {
        "colab": {
          "base_uri": "https://localhost:8080/",
          "height": 309
        },
        "id": "4eAl9oJ3RZ9P",
        "outputId": "09776316-1830-4f57-faf1-f0c810b6f9c6"
      },
      "execution_count": null,
      "outputs": [
        {
          "output_type": "execute_result",
          "data": {
            "text/plain": [
              "<matplotlib.axes._subplots.AxesSubplot at 0x7fb149fc5710>"
            ]
          },
          "metadata": {},
          "execution_count": 86
        },
        {
          "output_type": "display_data",
          "data": {
            "text/plain": [
              "<Figure size 432x288 with 1 Axes>"
            ],
            "image/png": "[encoded data removed]"
          },
          "metadata": {
            "needs_background": "light"
          }
        }
      ]
    },
    {
      "cell_type": "code",
      "source": [
        "sns.distplot(data['recircle_u'])    # It is a Continuous Numerical Type of Column"
      ],
      "metadata": {
        "colab": {
          "base_uri": "https://localhost:8080/",
          "height": 299
        },
        "id": "aQYzsTeERdTa",
        "outputId": "95683c8e-767d-4306-dccc-6efbbe00fb94"
      },
      "execution_count": null,
      "outputs": [
        {
          "output_type": "execute_result",
          "data": {
            "text/plain": [
              "<matplotlib.axes._subplots.AxesSubplot at 0x7fb14c457950>"
            ]
          },
          "metadata": {},
          "execution_count": 87
        },
        {
          "output_type": "display_data",
          "data": {
            "text/plain": [
              "<Figure size 432x288 with 1 Axes>"
            ],
            "image/png": "[encoded data removed]"
          },
          "metadata": {
            "needs_background": "light"
          }
        }
      ]
    },
    {
      "cell_type": "code",
      "source": [
        "sns.distplot(data['title'])    # It is a Continuous Numerical Type of Column"
      ],
      "metadata": {
        "colab": {
          "base_uri": "https://localhost:8080/",
          "height": 297
        },
        "id": "sAhdPsuLRnaK",
        "outputId": "e9c7135e-fc95-4ceb-927e-583cb661a48b"
      },
      "execution_count": null,
      "outputs": [
        {
          "output_type": "execute_result",
          "data": {
            "text/plain": [
              "<matplotlib.axes._subplots.AxesSubplot at 0x7fb14bef76d0>"
            ]
          },
          "metadata": {},
          "execution_count": 88
        },
        {
          "output_type": "display_data",
          "data": {
            "text/plain": [
              "<Figure size 432x288 with 1 Axes>"
            ],
            "image/png": "[encoded data removed]"
          },
          "metadata": {
            "needs_background": "light"
          }
        }
      ]
    },
    {
      "cell_type": "code",
      "source": [
        "sns.distplot(data[['f0', 'f1', 'f2', 'f3', 'f4', 'f5']])    # It is a Continuous Numerical Type of Column"
      ],
      "metadata": {
        "colab": {
          "base_uri": "https://localhost:8080/",
          "height": 284
        },
        "id": "Ot8MSGHsQBKB",
        "outputId": "28b55704-4fde-4232-cce0-ed7dcd9cf37c"
      },
      "execution_count": null,
      "outputs": [
        {
          "output_type": "execute_result",
          "data": {
            "text/plain": [
              "<matplotlib.axes._subplots.AxesSubplot at 0x7fb14a078610>"
            ]
          },
          "metadata": {},
          "execution_count": 85
        },
        {
          "output_type": "display_data",
          "data": {
            "text/plain": [
              "<Figure size 432x288 with 1 Axes>"
            ],
            "image/png": "[encoded data removed]"
          },
          "metadata": {
            "needs_background": "light"
          }
        }
      ]
    },
    {
      "cell_type": "code",
      "source": [
        ""
      ],
      "metadata": {
        "id": "Cm_kTd0mUTU8"
      },
      "execution_count": null,
      "outputs": []
    },
    {
      "cell_type": "markdown",
      "source": [
        "## Categorical Type Features -\n",
        "#### year of loan, 'class', 'sub_class', 'employment_grade' , 'work_year', 'house_exist', 'house_loan_status', 'censor_status', 'marriage', 'offsprings', 'issue_date', 'use', 'region', 'scoring_low', 'scoring_high', 'pub_dero_bankrup', 'early_return', 'initial_list_status', 'earlies_credit_mon'\n"
      ],
      "metadata": {
        "id": "lf3NUkinUoJr"
      }
    },
    {
      "cell_type": "markdown",
      "source": [
        "## Numerical Type Features\n",
        "####'total_loan', 'interest', 'monthly_payment', 'salary', 'post_code', 'debt_loan_ratio', 'del_in_18month', 'early_return_amount', 'early_return_amount_3mon', 'recircle_b', 'recircle_u', 'title', 'f0', 'f1', 'f2', 'f3', 'f4', 'f5'"
      ],
      "metadata": {
        "id": "RYkQNFjfUt3n"
      }
    },
    {
      "cell_type": "markdown",
      "source": [
        "#### Columns-  'loan_id','user_id','issue_date','earlies_credit_mon' \n",
        "#### should be dropped because ids does not provide any significant detail for modelling and issue date & early cerdit mon is a datetime column"
      ],
      "metadata": {
        "id": "ZaEC1rk6F5d8"
      }
    },
    {
      "cell_type": "code",
      "source": [
        "data.drop(['loan_id','user_id','issue_date','earlies_credit_mon'],axis=1,inplace=True)"
      ],
      "metadata": {
        "id": "YW02GwIvwmAt"
      },
      "execution_count": null,
      "outputs": []
    },
    {
      "cell_type": "code",
      "source": [
        ""
      ],
      "metadata": {
        "id": "dWRrkame794f"
      },
      "execution_count": null,
      "outputs": []
    },
    {
      "cell_type": "markdown",
      "source": [
        "## **Modelling without Random Undersampling**"
      ],
      "metadata": {
        "id": "Ja80GKYL7-cb"
      }
    },
    {
      "cell_type": "code",
      "source": [
        "df = data.copy()\n",
        "df.head()"
      ],
      "metadata": {
        "colab": {
          "base_uri": "https://localhost:8080/",
          "height": 236
        },
        "outputId": "3a69720e-c616-43a3-fb99-987ac5e72d23",
        "id": "OQvyx40s8QnK"
      },
      "execution_count": null,
      "outputs": [
        {
          "output_type": "execute_result",
          "data": {
            "text/plain": [
              "   total_loan  year_of_loan  interest  monthly_payment class sub_class  \\\n",
              "0       12000             5     11.53           264.10     B        B5   \n",
              "1        8000             3     13.98           273.35     C        C3   \n",
              "2       20000             5     17.99           507.76     D        D2   \n",
              "3       10700             3     10.16           346.07     B        B1   \n",
              "4        8000             3      8.24           251.58     B        B1   \n",
              "\n",
              "   employment_grade  work_year  house_exist  house_loan_status  ...  \\\n",
              "0                 1  10+ years            0                  0  ...   \n",
              "1                 1  10+ years            0                  1  ...   \n",
              "2                 3  10+ years            0                  0  ...   \n",
              "3                 1    2 years            2                  0  ...   \n",
              "4                 1    5 years            1                  2  ...   \n",
              "\n",
              "   recircle_u  initial_list_status    title   f0   f1    f2    f3   f4   f5  \\\n",
              "0        23.1                    0      0.0  1.0  0.0   8.0  17.0  8.0  1.0   \n",
              "1        99.9                    1     94.0  5.0  0.0   7.0  13.0  7.0  0.0   \n",
              "2        72.5                    0      0.0  6.0  0.0  10.0   8.0  3.0  0.0   \n",
              "3        78.6                    0  41646.0  3.0  0.0   4.0  11.0  6.0  0.0   \n",
              "4        67.8                    1      4.0  3.0  0.0   8.0   6.0  4.0  1.0   \n",
              "\n",
              "   is_default  \n",
              "0           1  \n",
              "1           0  \n",
              "2           0  \n",
              "3           0  \n",
              "4           0  \n",
              "\n",
              "[5 rows x 36 columns]"
            ],
            "text/html": [
              "\n",
              "  <div id=\"df-bbb41203-d856-48f8-b603-99a20acd5c2b\">\n",
              "    <div class=\"colab-df-container\">\n",
              "      <div>\n",
              "<style scoped>\n",
              "    .dataframe tbody tr th:only-of-type {\n",
              "        vertical-align: middle;\n",
              "    }\n",
              "\n",
              "    .dataframe tbody tr th {\n",
              "        vertical-align: top;\n",
              "    }\n",
              "\n",
              "    .dataframe thead th {\n",
              "        text-align: right;\n",
              "    }\n",
              "</style>\n",
              "<table border=\"1\" class=\"dataframe\">\n",
              "  <thead>\n",
              "    <tr style=\"text-align: right;\">\n",
              "      <th></th>\n",
              "      <th>total_loan</th>\n",
              "      <th>year_of_loan</th>\n",
              "      <th>interest</th>\n",
              "      <th>monthly_payment</th>\n",
              "      <th>class</th>\n",
              "      <th>sub_class</th>\n",
              "      <th>employment_grade</th>\n",
              "      <th>work_year</th>\n",
              "      <th>house_exist</th>\n",
              "      <th>house_loan_status</th>\n",
              "      <th>...</th>\n",
              "      <th>recircle_u</th>\n",
              "      <th>initial_list_status</th>\n",
              "      <th>title</th>\n",
              "      <th>f0</th>\n",
              "      <th>f1</th>\n",
              "      <th>f2</th>\n",
              "      <th>f3</th>\n",
              "      <th>f4</th>\n",
              "      <th>f5</th>\n",
              "      <th>is_default</th>\n",
              "    </tr>\n",
              "  </thead>\n",
              "  <tbody>\n",
              "    <tr>\n",
              "      <th>0</th>\n",
              "      <td>12000</td>\n",
              "      <td>5</td>\n",
              "      <td>11.53</td>\n",
              "      <td>264.10</td>\n",
              "      <td>B</td>\n",
              "      <td>B5</td>\n",
              "      <td>1</td>\n",
              "      <td>10+ years</td>\n",
              "      <td>0</td>\n",
              "      <td>0</td>\n",
              "      <td>...</td>\n",
              "      <td>23.1</td>\n",
              "      <td>0</td>\n",
              "      <td>0.0</td>\n",
              "      <td>1.0</td>\n",
              "      <td>0.0</td>\n",
              "      <td>8.0</td>\n",
              "      <td>17.0</td>\n",
              "      <td>8.0</td>\n",
              "      <td>1.0</td>\n",
              "      <td>1</td>\n",
              "    </tr>\n",
              "    <tr>\n",
              "      <th>1</th>\n",
              "      <td>8000</td>\n",
              "      <td>3</td>\n",
              "      <td>13.98</td>\n",
              "      <td>273.35</td>\n",
              "      <td>C</td>\n",
              "      <td>C3</td>\n",
              "      <td>1</td>\n",
              "      <td>10+ years</td>\n",
              "      <td>0</td>\n",
              "      <td>1</td>\n",
              "      <td>...</td>\n",
              "      <td>99.9</td>\n",
              "      <td>1</td>\n",
              "      <td>94.0</td>\n",
              "      <td>5.0</td>\n",
              "      <td>0.0</td>\n",
              "      <td>7.0</td>\n",
              "      <td>13.0</td>\n",
              "      <td>7.0</td>\n",
              "      <td>0.0</td>\n",
              "      <td>0</td>\n",
              "    </tr>\n",
              "    <tr>\n",
              "      <th>2</th>\n",
              "      <td>20000</td>\n",
              "      <td>5</td>\n",
              "      <td>17.99</td>\n",
              "      <td>507.76</td>\n",
              "      <td>D</td>\n",
              "      <td>D2</td>\n",
              "      <td>3</td>\n",
              "      <td>10+ years</td>\n",
              "      <td>0</td>\n",
              "      <td>0</td>\n",
              "      <td>...</td>\n",
              "      <td>72.5</td>\n",
              "      <td>0</td>\n",
              "      <td>0.0</td>\n",
              "      <td>6.0</td>\n",
              "      <td>0.0</td>\n",
              "      <td>10.0</td>\n",
              "      <td>8.0</td>\n",
              "      <td>3.0</td>\n",
              "      <td>0.0</td>\n",
              "      <td>0</td>\n",
              "    </tr>\n",
              "    <tr>\n",
              "      <th>3</th>\n",
              "      <td>10700</td>\n",
              "      <td>3</td>\n",
              "      <td>10.16</td>\n",
              "      <td>346.07</td>\n",
              "      <td>B</td>\n",
              "      <td>B1</td>\n",
              "      <td>1</td>\n",
              "      <td>2 years</td>\n",
              "      <td>2</td>\n",
              "      <td>0</td>\n",
              "      <td>...</td>\n",
              "      <td>78.6</td>\n",
              "      <td>0</td>\n",
              "      <td>41646.0</td>\n",
              "      <td>3.0</td>\n",
              "      <td>0.0</td>\n",
              "      <td>4.0</td>\n",
              "      <td>11.0</td>\n",
              "      <td>6.0</td>\n",
              "      <td>0.0</td>\n",
              "      <td>0</td>\n",
              "    </tr>\n",
              "    <tr>\n",
              "      <th>4</th>\n",
              "      <td>8000</td>\n",
              "      <td>3</td>\n",
              "      <td>8.24</td>\n",
              "      <td>251.58</td>\n",
              "      <td>B</td>\n",
              "      <td>B1</td>\n",
              "      <td>1</td>\n",
              "      <td>5 years</td>\n",
              "      <td>1</td>\n",
              "      <td>2</td>\n",
              "      <td>...</td>\n",
              "      <td>67.8</td>\n",
              "      <td>1</td>\n",
              "      <td>4.0</td>\n",
              "      <td>3.0</td>\n",
              "      <td>0.0</td>\n",
              "      <td>8.0</td>\n",
              "      <td>6.0</td>\n",
              "      <td>4.0</td>\n",
              "      <td>1.0</td>\n",
              "      <td>0</td>\n",
              "    </tr>\n",
              "  </tbody>\n",
              "</table>\n",
              "<p>5 rows × 36 columns</p>\n",
              "</div>\n",
              "      <button class=\"colab-df-convert\" onclick=\"convertToInteractive('df-bbb41203-d856-48f8-b603-99a20acd5c2b')\"\n",
              "              title=\"Convert this dataframe to an interactive table.\"\n",
              "              style=\"display:none;\">\n",
              "        \n",
              "  <svg xmlns=\"http://www.w3.org/2000/svg\" height=\"24px\"viewBox=\"0 0 24 24\"\n",
              "       width=\"24px\">\n",
              "    <path d=\"M0 0h24v24H0V0z\" fill=\"none\"/>\n",
              "    <path d=\"M18.56 5.44l.94 2.06.94-2.06 2.06-.94-2.06-.94-.94-2.06-.94 2.06-2.06.94zm-11 1L8.5 8.5l.94-2.06 2.06-.94-2.06-.94L8.5 2.5l-.94 2.06-2.06.94zm10 10l.94 2.06.94-2.06 2.06-.94-2.06-.94-.94-2.06-.94 2.06-2.06.94z\"/><path d=\"M17.41 7.96l-1.37-1.37c-.4-.4-.92-.59-1.43-.59-.52 0-1.04.2-1.43.59L10.3 9.45l-7.72 7.72c-.78.78-.78 2.05 0 2.83L4 21.41c.39.39.9.59 1.41.59.51 0 1.02-.2 1.41-.59l7.78-7.78 2.81-2.81c.8-.78.8-2.07 0-2.86zM5.41 20L4 18.59l7.72-7.72 1.47 1.35L5.41 20z\"/>\n",
              "  </svg>\n",
              "      </button>\n",
              "      \n",
              "  <style>\n",
              "    .colab-df-container {\n",
              "      display:flex;\n",
              "      flex-wrap:wrap;\n",
              "      gap: 12px;\n",
              "    }\n",
              "\n",
              "    .colab-df-convert {\n",
              "      background-color: #E8F0FE;\n",
              "      border: none;\n",
              "      border-radius: 50%;\n",
              "      cursor: pointer;\n",
              "      display: none;\n",
              "      fill: #1967D2;\n",
              "      height: 32px;\n",
              "      padding: 0 0 0 0;\n",
              "      width: 32px;\n",
              "    }\n",
              "\n",
              "    .colab-df-convert:hover {\n",
              "      background-color: #E2EBFA;\n",
              "      box-shadow: 0px 1px 2px rgba(60, 64, 67, 0.3), 0px 1px 3px 1px rgba(60, 64, 67, 0.15);\n",
              "      fill: #174EA6;\n",
              "    }\n",
              "\n",
              "    [theme=dark] .colab-df-convert {\n",
              "      background-color: #3B4455;\n",
              "      fill: #D2E3FC;\n",
              "    }\n",
              "\n",
              "    [theme=dark] .colab-df-convert:hover {\n",
              "      background-color: #434B5C;\n",
              "      box-shadow: 0px 1px 3px 1px rgba(0, 0, 0, 0.15);\n",
              "      filter: drop-shadow(0px 1px 2px rgba(0, 0, 0, 0.3));\n",
              "      fill: #FFFFFF;\n",
              "    }\n",
              "  </style>\n",
              "\n",
              "      <script>\n",
              "        const buttonEl =\n",
              "          document.querySelector('#df-bbb41203-d856-48f8-b603-99a20acd5c2b button.colab-df-convert');\n",
              "        buttonEl.style.display =\n",
              "          google.colab.kernel.accessAllowed ? 'block' : 'none';\n",
              "\n",
              "        async function convertToInteractive(key) {\n",
              "          const element = document.querySelector('#df-bbb41203-d856-48f8-b603-99a20acd5c2b');\n",
              "          const dataTable =\n",
              "            await google.colab.kernel.invokeFunction('convertToInteractive',\n",
              "                                                     [key], {});\n",
              "          if (!dataTable) return;\n",
              "\n",
              "          const docLinkHtml = 'Like what you see? Visit the ' +\n",
              "            '<a target=\"_blank\" href=https://colab.research.google.com/notebooks/data_table.ipynb>data table notebook</a>'\n",
              "            + ' to learn more about interactive tables.';\n",
              "          element.innerHTML = '';\n",
              "          dataTable['output_type'] = 'display_data';\n",
              "          await google.colab.output.renderOutput(dataTable, element);\n",
              "          const docLink = document.createElement('div');\n",
              "          docLink.innerHTML = docLinkHtml;\n",
              "          element.appendChild(docLink);\n",
              "        }\n",
              "      </script>\n",
              "    </div>\n",
              "  </div>\n",
              "  "
            ]
          },
          "metadata": {},
          "execution_count": 18
        }
      ]
    },
    {
      "cell_type": "code",
      "source": [
        "features = df.drop(['is_default'],axis=1)\n",
        "target   = df['is_default']"
      ],
      "metadata": {
        "id": "T4R9A7p3-NXn"
      },
      "execution_count": null,
      "outputs": []
    },
    {
      "cell_type": "markdown",
      "source": [
        "### Encoding"
      ],
      "metadata": {
        "id": "q9-KXsk1FeSy"
      }
    },
    {
      "cell_type": "code",
      "source": [
        "from sklearn.preprocessing import OrdinalEncoder\n",
        "\n",
        "oe = OrdinalEncoder()\n",
        "\n",
        "x_ord = oe.fit_transform(features[['work_year']])\n"
      ],
      "metadata": {
        "id": "wQiU0pQlAR9S"
      },
      "execution_count": null,
      "outputs": []
    },
    {
      "cell_type": "code",
      "source": [
        "from sklearn.preprocessing import OneHotEncoder\n",
        "\n",
        "onc = OneHotEncoder(sparse=False)\n",
        "\n",
        "x_onc = onc.fit_transform(features[['class', 'employment_grade', 'house_loan_status', 'censor_status','pub_dero_bankrup']])\n",
        "x_onc.shape"
      ],
      "metadata": {
        "colab": {
          "base_uri": "https://localhost:8080/"
        },
        "outputId": "46fea804-f210-45fa-8768-0d436b9382f9",
        "id": "FMCdPAXoAR9S"
      },
      "execution_count": null,
      "outputs": [
        {
          "output_type": "execute_result",
          "data": {
            "text/plain": [
              "(750000, 34)"
            ]
          },
          "metadata": {},
          "execution_count": 102
        }
      ]
    },
    {
      "cell_type": "markdown",
      "source": [
        "### Scaling"
      ],
      "metadata": {
        "id": "niM95rqmFgZT"
      }
    },
    {
      "cell_type": "code",
      "source": [
        "rbs = RobustScaler()\n",
        "\n",
        "x_num = rbs.fit_transform(features[['total_loan', 'interest', 'monthly_payment', 'salary', 'post_code', 'debt_loan_ratio', 'del_in_18month', \n",
        "           'early_return_amount', 'early_return_amount_3mon', 'recircle_b', 'recircle_u', 'title', 'f0', 'f1', 'f2', 'f3', 'f4']])\n"
      ],
      "metadata": {
        "id": "OR211MQrAR9T"
      },
      "execution_count": null,
      "outputs": []
    },
    {
      "cell_type": "code",
      "source": [
        "x_cat = np.array(features[['year_of_loan', 'house_exist', 'use','region', 'early_return','scoring_low','scoring_high', 'initial_list_status']])\n"
      ],
      "metadata": {
        "id": "1Tg3W4MwAR9T"
      },
      "execution_count": null,
      "outputs": []
    },
    {
      "cell_type": "markdown",
      "source": [
        "### Concat to processed data"
      ],
      "metadata": {
        "id": "kPlAMH41Fi6i"
      }
    },
    {
      "cell_type": "code",
      "source": [
        "X_new  = np.concatenate((x_ord,x_onc,x_num,x_cat),axis=1)\n",
        "X_new.shape"
      ],
      "metadata": {
        "id": "oItdt6vi_iWP",
        "colab": {
          "base_uri": "https://localhost:8080/"
        },
        "outputId": "089d2305-c040-47b3-f1c9-4d683f5569b2"
      },
      "execution_count": null,
      "outputs": [
        {
          "output_type": "execute_result",
          "data": {
            "text/plain": [
              "(750000, 60)"
            ]
          },
          "metadata": {},
          "execution_count": 105
        }
      ]
    },
    {
      "cell_type": "markdown",
      "source": [
        "### Train-Test Split"
      ],
      "metadata": {
        "id": "VgPSVlQSFmYV"
      }
    },
    {
      "cell_type": "code",
      "source": [
        "X_train, X_test, y_train, y_test = train_test_split(X_new,target,test_size=0.1,random_state=123)"
      ],
      "metadata": {
        "id": "mj8NI2yZacDV"
      },
      "execution_count": null,
      "outputs": []
    },
    {
      "cell_type": "code",
      "source": [
        ""
      ],
      "metadata": {
        "id": "KlMxPKu8803i"
      },
      "execution_count": null,
      "outputs": []
    },
    {
      "cell_type": "markdown",
      "source": [
        "### Classifiers"
      ],
      "metadata": {
        "id": "W1EQvGg9FptP"
      }
    },
    {
      "cell_type": "markdown",
      "source": [
        "#### Logistic Regression"
      ],
      "metadata": {
        "id": "3kHsj15tG37R"
      }
    },
    {
      "cell_type": "code",
      "source": [
        "lg = LogisticRegression(n_jobs=-1)\n",
        "\n",
        "lg.fit(X_train, y_train)\n",
        "\n",
        "# cross_val_score(lg,X_train,y_train,scoring = 'roc_auc',cv=3,n_jobs=-1,verbose=1)   #To check that if model is not overfitting"
      ],
      "metadata": {
        "colab": {
          "base_uri": "https://localhost:8080/"
        },
        "id": "5cR6CLd1acDW",
        "outputId": "18252bc1-c346-499b-d30f-b32a16a4b4cf"
      },
      "execution_count": null,
      "outputs": [
        {
          "output_type": "execute_result",
          "data": {
            "text/plain": [
              "LogisticRegression(n_jobs=-1)"
            ]
          },
          "metadata": {},
          "execution_count": 107
        }
      ]
    },
    {
      "cell_type": "code",
      "source": [
        "# F1 Score\n",
        "\n",
        "y_hat = lg.predict(X_test)\n",
        "f1_score(y_test,y_hat)"
      ],
      "metadata": {
        "colab": {
          "base_uri": "https://localhost:8080/"
        },
        "id": "wfJA5yCux_PX",
        "outputId": "a3d5c5c6-43c3-4ac5-a0d5-609e88916527"
      },
      "execution_count": null,
      "outputs": [
        {
          "output_type": "execute_result",
          "data": {
            "text/plain": [
              "0.18214816036957598"
            ]
          },
          "metadata": {},
          "execution_count": 111
        }
      ]
    },
    {
      "cell_type": "code",
      "source": [
        "# ROC-AUV Score\n",
        "\n",
        "roc_auc_score(y_test,y_hat)"
      ],
      "metadata": {
        "colab": {
          "base_uri": "https://localhost:8080/"
        },
        "id": "f0zKIabCx4DY",
        "outputId": "49c1d4a4-f7a5-4404-882e-95d76ce53aed"
      },
      "execution_count": null,
      "outputs": [
        {
          "output_type": "execute_result",
          "data": {
            "text/plain": [
              "0.5426264420220814"
            ]
          },
          "metadata": {},
          "execution_count": 112
        }
      ]
    },
    {
      "cell_type": "code",
      "source": [
        ""
      ],
      "metadata": {
        "id": "-iMtunOQB0aP"
      },
      "execution_count": null,
      "outputs": []
    },
    {
      "cell_type": "markdown",
      "source": [
        "#### Random Forest Classifier"
      ],
      "metadata": {
        "id": "GoIJneU0G-s2"
      }
    },
    {
      "cell_type": "code",
      "source": [
        "rfc = RandomForestClassifier(n_jobs=-1)\n",
        "\n",
        "rfc.fit(X_train, y_train)\n",
        "\n",
        "# cross_val_score(rfc,X_train,y_train,scoring = 'roc_auc',cv=3,n_jobs=-1,verbose=1)    #To check that if model is not overfitting"
      ],
      "metadata": {
        "colab": {
          "base_uri": "https://localhost:8080/"
        },
        "id": "Vq5r9_9NacDX",
        "outputId": "9f1f6d6d-4a1b-4e94-c28f-dfb0b93d07b8"
      },
      "execution_count": null,
      "outputs": [
        {
          "output_type": "execute_result",
          "data": {
            "text/plain": [
              "RandomForestClassifier(n_jobs=-1)"
            ]
          },
          "metadata": {},
          "execution_count": 108
        }
      ]
    },
    {
      "cell_type": "code",
      "source": [
        "# F1 Score\n",
        "\n",
        "y_hat = rfc.predict(X_test)\n",
        "f1_score(y_test,y_hat)"
      ],
      "metadata": {
        "colab": {
          "base_uri": "https://localhost:8080/"
        },
        "id": "-I60IsSAyBf7",
        "outputId": "21c5eb4e-7ec2-44c1-f3fa-f020607d4611"
      },
      "execution_count": null,
      "outputs": [
        {
          "output_type": "execute_result",
          "data": {
            "text/plain": [
              "0.20980837934394284"
            ]
          },
          "metadata": {},
          "execution_count": 113
        }
      ]
    },
    {
      "cell_type": "code",
      "source": [
        "# ROC-AUV Score\n",
        "\n",
        "roc_auc_score(y_test,y_hat)"
      ],
      "metadata": {
        "colab": {
          "base_uri": "https://localhost:8080/"
        },
        "id": "UeJf_9wpx4vw",
        "outputId": "ef4397c4-ca3d-4bf8-ff74-ea13a2945513"
      },
      "execution_count": null,
      "outputs": [
        {
          "output_type": "execute_result",
          "data": {
            "text/plain": [
              "0.5519301410172074"
            ]
          },
          "metadata": {},
          "execution_count": 114
        }
      ]
    },
    {
      "cell_type": "code",
      "source": [
        ""
      ],
      "metadata": {
        "id": "eLa8CUfM80yr"
      },
      "execution_count": null,
      "outputs": []
    },
    {
      "cell_type": "markdown",
      "source": [
        "#### XG Boost Classifier"
      ],
      "metadata": {
        "id": "Ms6okqbWHCQd"
      }
    },
    {
      "cell_type": "code",
      "source": [
        "xgb_clf = XGBClassifier(use_label_encoder=False)\n",
        "\n",
        "xgb_clf.fit(X_train, y_train)\n",
        "\n",
        "# cross_val_score(xgb_clf,X_train,y_train,scoring = 'roc_auc',cv=3,n_jobs=-1,verbose=1)    #To check that if model is not overfitting"
      ],
      "metadata": {
        "id": "M0_NsXsX80sj",
        "colab": {
          "base_uri": "https://localhost:8080/"
        },
        "outputId": "792e08ab-309e-4b98-c22c-d48f38efd311"
      },
      "execution_count": null,
      "outputs": [
        {
          "output_type": "execute_result",
          "data": {
            "text/plain": [
              "XGBClassifier(use_label_encoder=False)"
            ]
          },
          "metadata": {},
          "execution_count": 109
        }
      ]
    },
    {
      "cell_type": "code",
      "source": [
        "# F1 Score\n",
        "\n",
        "y_hat = xgb_clf.predict(X_test)\n",
        "f1_score(y_test,y_hat)"
      ],
      "metadata": {
        "colab": {
          "base_uri": "https://localhost:8080/"
        },
        "id": "homNDUpayCXe",
        "outputId": "f0c843ed-677e-4b2b-f4a3-8ed947c1f775"
      },
      "execution_count": null,
      "outputs": [
        {
          "output_type": "execute_result",
          "data": {
            "text/plain": [
              "0.16377341251713112"
            ]
          },
          "metadata": {},
          "execution_count": 115
        }
      ]
    },
    {
      "cell_type": "code",
      "source": [
        "# ROC-AUV Score\n",
        "\n",
        "roc_auc_score(y_test,y_hat)"
      ],
      "metadata": {
        "colab": {
          "base_uri": "https://localhost:8080/"
        },
        "id": "Wy2j7ADkx5g0",
        "outputId": "33bdaefa-4e65-40ca-ed82-a09146da8c55"
      },
      "execution_count": null,
      "outputs": [
        {
          "output_type": "execute_result",
          "data": {
            "text/plain": [
              "0.5389869655684583"
            ]
          },
          "metadata": {},
          "execution_count": 116
        }
      ]
    },
    {
      "cell_type": "code",
      "source": [
        ""
      ],
      "metadata": {
        "id": "U4czqKLb80qP"
      },
      "execution_count": null,
      "outputs": []
    },
    {
      "cell_type": "markdown",
      "source": [
        "#### GradientBoostingClassifier"
      ],
      "metadata": {
        "id": "7PUUZF0SHFgA"
      }
    },
    {
      "cell_type": "code",
      "source": [
        "gbc = GradientBoostingClassifier()\n",
        "\n",
        "gbc.fit(X_train,y_train)\n",
        "\n",
        "# cross_val_score(gbc,X_train,y_train,scoring = 'roc_auc',cv=3,n_jobs=-1,verbose=1)      #To check that if model is not overfitting"
      ],
      "metadata": {
        "id": "G2uCVbF780n3",
        "colab": {
          "base_uri": "https://localhost:8080/"
        },
        "outputId": "8661a6ac-292b-4d8c-eed3-26680ab1a943"
      },
      "execution_count": null,
      "outputs": [
        {
          "output_type": "execute_result",
          "data": {
            "text/plain": [
              "GradientBoostingClassifier()"
            ]
          },
          "metadata": {},
          "execution_count": 110
        }
      ]
    },
    {
      "cell_type": "code",
      "source": [
        "# F1 Score\n",
        "\n",
        "y_hat = gbc.predict(X_test)\n",
        "f1_score(y_test,y_hat)"
      ],
      "metadata": {
        "colab": {
          "base_uri": "https://localhost:8080/"
        },
        "id": "j9ObOxP0yDEb",
        "outputId": "7c43f653-9157-475e-d3d1-8c3eea1e6004"
      },
      "execution_count": null,
      "outputs": [
        {
          "output_type": "execute_result",
          "data": {
            "text/plain": [
              "0.19206287706868877"
            ]
          },
          "metadata": {},
          "execution_count": 117
        }
      ]
    },
    {
      "cell_type": "code",
      "source": [
        "# ROC-AUV Score\n",
        "\n",
        "roc_auc_score(y_test,y_hat)"
      ],
      "metadata": {
        "colab": {
          "base_uri": "https://localhost:8080/"
        },
        "id": "rNz-zpuxx6J1",
        "outputId": "4d69119a-c6f7-44f4-abf7-e78b11aa45ee"
      },
      "execution_count": null,
      "outputs": [
        {
          "output_type": "execute_result",
          "data": {
            "text/plain": [
              "0.5468797413208446"
            ]
          },
          "metadata": {},
          "execution_count": 118
        }
      ]
    },
    {
      "cell_type": "code",
      "source": [
        ""
      ],
      "metadata": {
        "id": "QulMjmpg80lr"
      },
      "execution_count": null,
      "outputs": []
    },
    {
      "cell_type": "markdown",
      "source": [
        "#### Neural Network"
      ],
      "metadata": {
        "id": "74OZ-FqXHIiM"
      }
    },
    {
      "cell_type": "code",
      "source": [
        "def nn_model(num_columns, num_labels, hidden_units, dropout_rates, learning_rate):\n",
        "    inp = tf.keras.layers.Input(shape=(num_columns, ))\n",
        "    x = BatchNormalization()(inp)\n",
        "    x = Dropout(dropout_rates[0])(x)\n",
        "    for i in range(len(hidden_units)):\n",
        "        x = Dense(hidden_units[i], activation='relu')(x)\n",
        "        x = BatchNormalization()(x)\n",
        "        x = Dropout(dropout_rates[i + 1])(x)\n",
        "    x = Dense(num_labels, activation='sigmoid')(x)\n",
        "  \n",
        "    model = Model(inputs=inp, outputs=x)\n",
        "    model.compile(optimizer=Adam(learning_rate), loss='binary_crossentropy', metrics=[AUC(name='AUC')])\n",
        "    return model"
      ],
      "metadata": {
        "id": "kxvji9DSAO3v"
      },
      "execution_count": null,
      "outputs": []
    },
    {
      "cell_type": "code",
      "source": [
        "num_columns = X_train.shape[1]\n",
        "num_labels = 1\n",
        "hidden_units = [50, 50, 25,10]\n",
        "dropout_rates = [0.1, 0, 0.1, 0,0.1]\n",
        "learning_rate = 1e-5\n",
        "\n",
        "\n",
        "model = nn_model(\n",
        "    num_columns=num_columns, \n",
        "    num_labels=num_labels,\n",
        "    hidden_units=hidden_units,\n",
        "    dropout_rates=dropout_rates,\n",
        "    learning_rate=learning_rate\n",
        ")\n",
        "r = model.fit(\n",
        "    X_train, y_train,\n",
        "    validation_data=(X_test, y_test),\n",
        "    epochs=10,\n",
        "    batch_size=32\n",
        ")"
      ],
      "metadata": {
        "id": "5TElyluLAO3v",
        "colab": {
          "base_uri": "https://localhost:8080/"
        },
        "outputId": "9383b36c-65bb-4a19-b872-dcc1bd69fb67"
      },
      "execution_count": null,
      "outputs": [
        {
          "output_type": "stream",
          "name": "stdout",
          "text": [
            "Epoch 1/10\n",
            "21094/21094 [==============================] - 132s 6ms/step - loss: 0.6467 - AUC: 0.5915 - val_loss: 0.5196 - val_AUC: 0.6671\n",
            "Epoch 2/10\n",
            "21094/21094 [==============================] - 96s 5ms/step - loss: 0.4984 - AUC: 0.6534 - val_loss: 0.4628 - val_AUC: 0.7083\n",
            "Epoch 3/10\n",
            "21094/21094 [==============================] - 94s 4ms/step - loss: 0.4667 - AUC: 0.6904 - val_loss: 0.4495 - val_AUC: 0.7268\n",
            "Epoch 4/10\n",
            "21094/21094 [==============================] - 93s 4ms/step - loss: 0.4563 - AUC: 0.7091 - val_loss: 0.4448 - val_AUC: 0.7351\n",
            "Epoch 5/10\n",
            "21094/21094 [==============================] - 108s 5ms/step - loss: 0.4512 - AUC: 0.7183 - val_loss: 0.4405 - val_AUC: 0.7409\n",
            "Epoch 6/10\n",
            "21094/21094 [==============================] - 112s 5ms/step - loss: 0.4475 - AUC: 0.7248 - val_loss: 0.4386 - val_AUC: 0.7438\n",
            "Epoch 7/10\n",
            "21094/21094 [==============================] - 94s 4ms/step - loss: 0.4444 - AUC: 0.7304 - val_loss: 0.4372 - val_AUC: 0.7469\n",
            "Epoch 8/10\n",
            "21094/21094 [==============================] - 93s 4ms/step - loss: 0.4430 - AUC: 0.7325 - val_loss: 0.4358 - val_AUC: 0.7488\n",
            "Epoch 9/10\n",
            "21094/21094 [==============================] - 91s 4ms/step - loss: 0.4412 - AUC: 0.7359 - val_loss: 0.4348 - val_AUC: 0.7505\n",
            "Epoch 10/10\n",
            "21094/21094 [==============================] - 92s 4ms/step - loss: 0.4403 - AUC: 0.7372 - val_loss: 0.4343 - val_AUC: 0.7514\n"
          ]
        }
      ]
    },
    {
      "cell_type": "code",
      "source": [
        "def plot_learning_evolution(r):\n",
        "    plt.figure(figsize=(12, 8))\n",
        "    \n",
        "    plt.subplot(2, 2, 1)\n",
        "    plt.plot(r.history['loss'], label='Loss')\n",
        "    plt.plot(r.history['val_loss'], label='val_Loss')\n",
        "    plt.title('Loss evolution during trainig')\n",
        "    plt.legend()\n",
        "\n",
        "    plt.subplot(2, 2, 2)\n",
        "    plt.plot(r.history['AUC'], label='AUC')\n",
        "    plt.plot(r.history['val_AUC'], label='val_AUC')\n",
        "    plt.title('AUC score evolution during trainig')\n",
        "    plt.legend();\n",
        "\n",
        "\n",
        "plot_learning_evolution(r)"
      ],
      "metadata": {
        "id": "W7CK22-OAO3v",
        "colab": {
          "base_uri": "https://localhost:8080/",
          "height": 262
        },
        "outputId": "899c7b59-fd0b-45ff-ccd0-c898ff9d4265"
      },
      "execution_count": null,
      "outputs": [
        {
          "output_type": "display_data",
          "data": {
            "text/plain": [
              "<Figure size 864x576 with 2 Axes>"
            ],
            "image/png": "[encoded data removed]"
          },
          "metadata": {
            "needs_background": "light"
          }
        }
      ]
    },
    {
      "cell_type": "code",
      "source": [
        "# F1 Score\n",
        "\n",
        "y_hat = model.predict(X_test)\n",
        "f1_score(y_test,y_hat.round())"
      ],
      "metadata": {
        "id": "WhGl95sIALKL",
        "colab": {
          "base_uri": "https://localhost:8080/"
        },
        "outputId": "319fcd05-f4f5-46b5-c132-6cbdd3d0fc3a"
      },
      "execution_count": null,
      "outputs": [
        {
          "output_type": "execute_result",
          "data": {
            "text/plain": [
              "0.12950655766629418"
            ]
          },
          "metadata": {},
          "execution_count": 124
        }
      ]
    },
    {
      "cell_type": "code",
      "source": [
        "# ROC_AUC score\n",
        "\n",
        "roc_auc_score(y_test,y_hat.round())"
      ],
      "metadata": {
        "colab": {
          "base_uri": "https://localhost:8080/"
        },
        "id": "TL8QYL8wyR7-",
        "outputId": "84cdb2bd-82f2-4037-ad73-ffbeceb20ab8"
      },
      "execution_count": null,
      "outputs": [
        {
          "output_type": "execute_result",
          "data": {
            "text/plain": [
              "0.529379566917107"
            ]
          },
          "metadata": {},
          "execution_count": 125
        }
      ]
    },
    {
      "cell_type": "code",
      "source": [
        ""
      ],
      "metadata": {
        "id": "Mv4PrtYdALHf"
      },
      "execution_count": null,
      "outputs": []
    },
    {
      "cell_type": "markdown",
      "source": [
        "## **Modelling using Random Undersampling of Data**"
      ],
      "metadata": {
        "id": "pjAAJhGD9uvu"
      }
    },
    {
      "cell_type": "code",
      "source": [
        "# Sampling random indexes of class 0 to get 50-50 balance between classes\n",
        "\n",
        "import random\n",
        "\n",
        "x_0 = df[df['is_default']==0]                                                         # Dataframe for class 0\n",
        "indx_0 = list(x_0.index)                                                              \n",
        "indx = np.random.choice(indx_0,size=df['is_default'].value_counts()[1],replace=False)  # Randomly selecting the indexes of class 0, size equal to class 1\n",
        "len(indx)"
      ],
      "metadata": {
        "colab": {
          "base_uri": "https://localhost:8080/"
        },
        "outputId": "ef5f195b-24bb-4674-ffa5-b65a8ae9457c",
        "id": "Dbxf7ZZ69_z_"
      },
      "execution_count": null,
      "outputs": [
        {
          "output_type": "execute_result",
          "data": {
            "text/plain": [
              "149673"
            ]
          },
          "metadata": {},
          "execution_count": 21
        }
      ]
    },
    {
      "cell_type": "code",
      "source": [
        "x_0_sample = df.loc[indx]  # Sampling the dataset using the above indexes\n",
        "\n",
        "x_1 = df[df['is_default']==1]\n",
        "\n",
        "x_usample = pd.concat([x_0_sample,x_1],axis=0) # Concatenate with class 1"
      ],
      "metadata": {
        "id": "4wN0LkFV9_0A"
      },
      "execution_count": null,
      "outputs": []
    },
    {
      "cell_type": "code",
      "source": [
        "x_usample.shape"
      ],
      "metadata": {
        "colab": {
          "base_uri": "https://localhost:8080/"
        },
        "outputId": "0863ecd2-8d29-46db-c6d1-a93c2c8c0f76",
        "id": "PFk8Brr79_0A"
      },
      "execution_count": null,
      "outputs": [
        {
          "output_type": "execute_result",
          "data": {
            "text/plain": [
              "(299346, 36)"
            ]
          },
          "metadata": {},
          "execution_count": 23
        }
      ]
    },
    {
      "cell_type": "markdown",
      "source": [
        "### Encoding"
      ],
      "metadata": {
        "id": "1Yb3G4cBEOXd"
      }
    },
    {
      "cell_type": "code",
      "source": [
        "# Ordinal Encoding\n",
        "\n",
        "oe = OrdinalEncoder()                       \n",
        "\n",
        "x_ord = oe.fit_transform(x_usample[['work_year']])"
      ],
      "metadata": {
        "id": "oQvTe-VW9_0A"
      },
      "execution_count": null,
      "outputs": []
    },
    {
      "cell_type": "code",
      "source": [
        "# One Hot Encoding\n",
        "\n",
        "onc = OneHotEncoder(sparse=False)\n",
        "\n",
        "x_onc = onc.fit_transform(x_usample[['class', 'employment_grade', 'house_loan_status', 'censor_status','pub_dero_bankrup']])\n",
        "x_onc.shape"
      ],
      "metadata": {
        "colab": {
          "base_uri": "https://localhost:8080/"
        },
        "id": "mfaAIqJlT78y",
        "outputId": "29d7858a-fb50-47cf-92d6-3e4ad3bc4b81"
      },
      "execution_count": null,
      "outputs": [
        {
          "output_type": "execute_result",
          "data": {
            "text/plain": [
              "(299346, 33)"
            ]
          },
          "metadata": {},
          "execution_count": 39
        }
      ]
    },
    {
      "cell_type": "markdown",
      "source": [
        "### Scaling the data"
      ],
      "metadata": {
        "id": "P-dNiGeJEsXP"
      }
    },
    {
      "cell_type": "code",
      "source": [
        "rbs = RobustScaler()\n",
        "\n",
        "x_num = rbs.fit_transform(x_usample[['total_loan', 'interest', 'monthly_payment', 'salary', 'post_code', 'debt_loan_ratio', 'del_in_18month', \n",
        "           'early_return_amount', 'early_return_amount_3mon', 'recircle_b', 'recircle_u', 'title', 'f0', 'f1', 'f2', 'f3', 'f4']])\n"
      ],
      "metadata": {
        "id": "aBLZ7b79YfPJ"
      },
      "execution_count": null,
      "outputs": []
    },
    {
      "cell_type": "code",
      "source": [
        "\n",
        "x_cat = np.array(x_usample[['year_of_loan', 'house_exist', 'use','region', 'early_return','scoring_low','scoring_high', 'initial_list_status']])\n"
      ],
      "metadata": {
        "id": "RzHlnIFUZpSs"
      },
      "execution_count": null,
      "outputs": []
    },
    {
      "cell_type": "markdown",
      "source": [
        "### Concat to get processed data"
      ],
      "metadata": {
        "id": "uOlhikB3E2rI"
      }
    },
    {
      "cell_type": "code",
      "source": [
        "X_new  = np.concatenate((x_ord,x_onc,x_num,x_cat),axis=1)"
      ],
      "metadata": {
        "id": "hq0wVZ8NEukZ"
      },
      "execution_count": null,
      "outputs": []
    },
    {
      "cell_type": "code",
      "source": [
        "X_new.shape"
      ],
      "metadata": {
        "colab": {
          "base_uri": "https://localhost:8080/"
        },
        "id": "O4YLV1UgVzJT",
        "outputId": "c1be4668-9ad4-475a-f1cf-4ebdcb8690e2"
      },
      "execution_count": null,
      "outputs": [
        {
          "output_type": "execute_result",
          "data": {
            "text/plain": [
              "(299346, 59)"
            ]
          },
          "metadata": {},
          "execution_count": 43
        }
      ]
    },
    {
      "cell_type": "code",
      "source": [
        "y = x_usample['is_default']"
      ],
      "metadata": {
        "id": "rGwf9edZ9_0B"
      },
      "execution_count": null,
      "outputs": []
    },
    {
      "cell_type": "markdown",
      "source": [
        "### Train-Test Split"
      ],
      "metadata": {
        "id": "nOD3iZxkEy3s"
      }
    },
    {
      "cell_type": "code",
      "source": [
        "X_train, X_test, y_train, y_test = train_test_split(X_new,y,test_size=0.2,random_state=123)"
      ],
      "metadata": {
        "id": "0B-TzyfG9_0B"
      },
      "execution_count": null,
      "outputs": []
    },
    {
      "cell_type": "code",
      "source": [
        ""
      ],
      "metadata": {
        "id": "z_EvIbSw9SSc"
      },
      "execution_count": null,
      "outputs": []
    },
    {
      "cell_type": "markdown",
      "source": [
        "### Classifiers"
      ],
      "metadata": {
        "id": "6BBEpkz9HWul"
      }
    },
    {
      "cell_type": "markdown",
      "source": [
        "#### Logistic Regression"
      ],
      "metadata": {
        "id": "XpwScotanFRA"
      }
    },
    {
      "cell_type": "code",
      "source": [
        "lg = LogisticRegression(n_jobs=-1)\n",
        "\n",
        "lg.fit(X_train, y_train)\n",
        "\n",
        "# cross_val_score(lg,X_train,y_train,scoring = 'roc_auc',cv=3,n_jobs=-1,verbose=1)"
      ],
      "metadata": {
        "colab": {
          "base_uri": "https://localhost:8080/"
        },
        "outputId": "c80d8b1e-139b-464f-f65b-27b4d0bfb909",
        "id": "5qAMqBAxnFRA"
      },
      "execution_count": null,
      "outputs": [
        {
          "output_type": "execute_result",
          "data": {
            "text/plain": [
              "LogisticRegression(n_jobs=-1)"
            ]
          },
          "metadata": {},
          "execution_count": 46
        }
      ]
    },
    {
      "cell_type": "code",
      "source": [
        "# F1 Score\n",
        "\n",
        "y_hat = lg.predict(X_test)\n",
        "f1_score(y_test,y_hat)"
      ],
      "metadata": {
        "colab": {
          "base_uri": "https://localhost:8080/"
        },
        "id": "mK9xrIkwQ4Gy",
        "outputId": "c700b52e-cefd-4141-dc32-2d754615116b"
      },
      "execution_count": null,
      "outputs": [
        {
          "output_type": "execute_result",
          "data": {
            "text/plain": [
              "0.689238288157937"
            ]
          },
          "metadata": {},
          "execution_count": 69
        }
      ]
    },
    {
      "cell_type": "code",
      "source": [
        "# ROC-AUV Score\n",
        "\n",
        "roc_auc_score(y_test,y_hat)"
      ],
      "metadata": {
        "colab": {
          "base_uri": "https://localhost:8080/"
        },
        "id": "lLjc4XWGpnVT",
        "outputId": "433d2575-b183-4f1a-faf7-0d9e921bd510"
      },
      "execution_count": null,
      "outputs": [
        {
          "output_type": "execute_result",
          "data": {
            "text/plain": [
              "0.6772048756588506"
            ]
          },
          "metadata": {},
          "execution_count": 70
        }
      ]
    },
    {
      "cell_type": "code",
      "source": [
        ""
      ],
      "metadata": {
        "id": "deSAbhCxL1vP"
      },
      "execution_count": null,
      "outputs": []
    },
    {
      "cell_type": "markdown",
      "source": [
        "#### Random Forest Classifier"
      ],
      "metadata": {
        "id": "7HqJLgCdnFRB"
      }
    },
    {
      "cell_type": "code",
      "source": [
        "rfc = RandomForestClassifier(n_jobs=-1)\n",
        "\n",
        "rfc.fit(X_train, y_train)\n",
        "\n",
        "# cross_val_score(rfc,X_train,y_train,scoring = 'roc_auc',cv=3,n_jobs=-1,verbose=1)"
      ],
      "metadata": {
        "colab": {
          "base_uri": "https://localhost:8080/"
        },
        "outputId": "2e284cbf-1a63-4393-ce3f-a7a5f08237b8",
        "id": "RqL74Yb_nFRB"
      },
      "execution_count": null,
      "outputs": [
        {
          "output_type": "execute_result",
          "data": {
            "text/plain": [
              "RandomForestClassifier(n_jobs=-1)"
            ]
          },
          "metadata": {},
          "execution_count": 48
        }
      ]
    },
    {
      "cell_type": "code",
      "source": [
        "# F1 Score\n",
        "\n",
        "y_hat = rfc.predict(X_test)\n",
        "f1_score(y_test,y_hat)"
      ],
      "metadata": {
        "colab": {
          "base_uri": "https://localhost:8080/"
        },
        "id": "ZhCa2fsEQ48Z",
        "outputId": "ecd7a183-b52b-48eb-8d09-16bd41e2f459"
      },
      "execution_count": null,
      "outputs": [
        {
          "output_type": "execute_result",
          "data": {
            "text/plain": [
              "0.6978749515566465"
            ]
          },
          "metadata": {},
          "execution_count": 67
        }
      ]
    },
    {
      "cell_type": "code",
      "source": [
        "# ROC-AUV Score\n",
        "\n",
        "roc_auc_score(y_test,y_hat)"
      ],
      "metadata": {
        "id": "YKlQYUzyL215",
        "colab": {
          "base_uri": "https://localhost:8080/"
        },
        "outputId": "af47d985-576b-4ef6-a5dd-5b1ec236dbbf"
      },
      "execution_count": null,
      "outputs": [
        {
          "output_type": "execute_result",
          "data": {
            "text/plain": [
              "0.687552576080295"
            ]
          },
          "metadata": {},
          "execution_count": 68
        }
      ]
    },
    {
      "cell_type": "markdown",
      "source": [
        "#### XG Boost Classifier"
      ],
      "metadata": {
        "id": "fa-MItHSnFRB"
      }
    },
    {
      "cell_type": "code",
      "source": [
        "xgb_clf = XGBClassifier(use_label_encoder=False)\n",
        "\n",
        "xgb_clf.fit(X_train, y_train)\n",
        "\n",
        "# cross_val_score(xgb_clf,X_train,y_train,scoring = 'roc_auc',cv=3,n_jobs=-1,verbose=1)"
      ],
      "metadata": {
        "colab": {
          "base_uri": "https://localhost:8080/"
        },
        "outputId": "6081e5d8-3d23-4aac-bdb9-3742e59d5916",
        "id": "uzIghRAUnFRB"
      },
      "execution_count": null,
      "outputs": [
        {
          "output_type": "execute_result",
          "data": {
            "text/plain": [
              "XGBClassifier(use_label_encoder=False)"
            ]
          },
          "metadata": {},
          "execution_count": 50
        }
      ]
    },
    {
      "cell_type": "code",
      "source": [
        "# F1 Score\n",
        "\n",
        "y_hat = xgb_clf.predict(X_test)\n",
        "f1_score(y_test,y_hat)"
      ],
      "metadata": {
        "colab": {
          "base_uri": "https://localhost:8080/"
        },
        "id": "yr5HJ35ZQ5t3",
        "outputId": "5ec85e26-ea73-4855-f62d-72beb1996a9b"
      },
      "execution_count": null,
      "outputs": [
        {
          "output_type": "execute_result",
          "data": {
            "text/plain": [
              "0.7094950005528615"
            ]
          },
          "metadata": {},
          "execution_count": 65
        }
      ]
    },
    {
      "cell_type": "code",
      "source": [
        "# ROC-AUV Score\n",
        "\n",
        "roc_auc_score(y_test,y_hat)"
      ],
      "metadata": {
        "colab": {
          "base_uri": "https://localhost:8080/"
        },
        "id": "EZUiptrNoBPG",
        "outputId": "9602de92-e58e-4d8a-f378-6f34b34ddae7"
      },
      "execution_count": null,
      "outputs": [
        {
          "output_type": "execute_result",
          "data": {
            "text/plain": [
              "0.692921584447089"
            ]
          },
          "metadata": {},
          "execution_count": 66
        }
      ]
    },
    {
      "cell_type": "code",
      "source": [
        ""
      ],
      "metadata": {
        "id": "NtyPIwrnL3fZ"
      },
      "execution_count": null,
      "outputs": []
    },
    {
      "cell_type": "markdown",
      "source": [
        "#### GradientBoostingClassifier"
      ],
      "metadata": {
        "id": "2qB2rOF9nFRC"
      }
    },
    {
      "cell_type": "code",
      "source": [
        "from sklearn.ensemble import GradientBoostingClassifier\n",
        "gbc = GradientBoostingClassifier()\n",
        "\n",
        "gbc.fit(X_train,y_train)\n",
        "\n",
        "# cross_val_score(gbc,X_train,y_train,scoring = 'roc_auc',cv=3,n_jobs=-1,verbose=1) "
      ],
      "metadata": {
        "colab": {
          "base_uri": "https://localhost:8080/"
        },
        "outputId": "493fb665-9ad6-48bd-c7dd-bd316385e82e",
        "id": "wOJS2XTdnFRC"
      },
      "execution_count": null,
      "outputs": [
        {
          "output_type": "execute_result",
          "data": {
            "text/plain": [
              "GradientBoostingClassifier()"
            ]
          },
          "metadata": {},
          "execution_count": 53
        }
      ]
    },
    {
      "cell_type": "code",
      "source": [
        "# F1 Score\n",
        "\n",
        "y_hat = gbc.predict(X_test)\n",
        "f1_score(y_test,y_hat)"
      ],
      "metadata": {
        "colab": {
          "base_uri": "https://localhost:8080/"
        },
        "id": "Jl48hANEQ6pK",
        "outputId": "79cc7f94-712b-4a86-9c7d-c34098160745"
      },
      "execution_count": null,
      "outputs": [
        {
          "output_type": "execute_result",
          "data": {
            "text/plain": [
              "0.7098325135618149"
            ]
          },
          "metadata": {},
          "execution_count": 54
        }
      ]
    },
    {
      "cell_type": "code",
      "source": [
        "# ROC-AUV Score\n",
        "\n",
        "roc_auc_score(y_test,y_hat)"
      ],
      "metadata": {
        "colab": {
          "base_uri": "https://localhost:8080/"
        },
        "id": "1bHZBQ06oCXV",
        "outputId": "bbb1a935-718d-4931-ed5e-6430272137f5"
      },
      "execution_count": null,
      "outputs": [
        {
          "output_type": "execute_result",
          "data": {
            "text/plain": [
              "0.6936542057645849"
            ]
          },
          "metadata": {},
          "execution_count": 55
        }
      ]
    },
    {
      "cell_type": "code",
      "source": [
        ""
      ],
      "metadata": {
        "id": "TZnTVOcHL4A9"
      },
      "execution_count": null,
      "outputs": []
    },
    {
      "cell_type": "markdown",
      "source": [
        "#### Neural Network"
      ],
      "metadata": {
        "id": "IgxRulPenFRC"
      }
    },
    {
      "cell_type": "code",
      "source": [
        "def nn_model(num_columns, num_labels, hidden_units, dropout_rates, learning_rate):\n",
        "    inp = tf.keras.layers.Input(shape=(num_columns, ))\n",
        "    x = BatchNormalization()(inp)\n",
        "    x = Dropout(dropout_rates[0])(x)\n",
        "    for i in range(len(hidden_units)):\n",
        "        x = Dense(hidden_units[i], activation='relu')(x)\n",
        "        x = BatchNormalization()(x)\n",
        "        x = Dropout(dropout_rates[i + 1])(x)\n",
        "    x = Dense(num_labels, activation='sigmoid')(x)\n",
        "  \n",
        "    model = Model(inputs=inp, outputs=x)\n",
        "    model.compile(optimizer=Adam(learning_rate), loss='binary_crossentropy', metrics=[AUC(name='AUC')])\n",
        "    return model"
      ],
      "metadata": {
        "id": "GVF4Uj8GnFRC"
      },
      "execution_count": null,
      "outputs": []
    },
    {
      "cell_type": "code",
      "source": [
        "num_columns = X_train.shape[1]\n",
        "num_labels = 1\n",
        "hidden_units = [50, 50, 25,10]\n",
        "dropout_rates = [0.1, 0, 0.1, 0,0.1]\n",
        "learning_rate = 1e-5\n",
        "\n",
        "\n",
        "model = nn_model(\n",
        "    num_columns=num_columns, \n",
        "    num_labels=num_labels,\n",
        "    hidden_units=hidden_units,\n",
        "    dropout_rates=dropout_rates,\n",
        "    learning_rate=learning_rate\n",
        ")\n",
        "r = model.fit(\n",
        "    X_train, y_train,\n",
        "    validation_data=(X_test, y_test),\n",
        "    epochs=10,\n",
        "    batch_size=32\n",
        ")"
      ],
      "metadata": {
        "colab": {
          "base_uri": "https://localhost:8080/"
        },
        "id": "ns_XZXlLnFRC",
        "outputId": "246b1b75-2f5d-4993-bb26-ed3ba98bf56f"
      },
      "execution_count": null,
      "outputs": [
        {
          "output_type": "stream",
          "name": "stdout",
          "text": [
            "Epoch 1/10\n",
            "7484/7484 [==============================] - 49s 6ms/step - loss: 0.8409 - AUC: 0.6070 - val_loss: 0.7063 - val_AUC: 0.6635\n",
            "Epoch 2/10\n",
            "7484/7484 [==============================] - 36s 5ms/step - loss: 0.7074 - AUC: 0.6520 - val_loss: 0.6505 - val_AUC: 0.6879\n",
            "Epoch 3/10\n",
            "7484/7484 [==============================] - 38s 5ms/step - loss: 0.6688 - AUC: 0.6671 - val_loss: 0.6275 - val_AUC: 0.7049\n",
            "Epoch 4/10\n",
            "7484/7484 [==============================] - 38s 5ms/step - loss: 0.6498 - AUC: 0.6789 - val_loss: 0.6161 - val_AUC: 0.7139\n",
            "Epoch 5/10\n",
            "7484/7484 [==============================] - 36s 5ms/step - loss: 0.6373 - AUC: 0.6886 - val_loss: 0.6091 - val_AUC: 0.7224\n",
            "Epoch 6/10\n",
            "7484/7484 [==============================] - 41s 5ms/step - loss: 0.6304 - AUC: 0.6969 - val_loss: 0.6043 - val_AUC: 0.7278\n",
            "Epoch 7/10\n",
            "7484/7484 [==============================] - 38s 5ms/step - loss: 0.6249 - AUC: 0.7038 - val_loss: 0.6008 - val_AUC: 0.7321\n",
            "Epoch 8/10\n",
            "7484/7484 [==============================] - 36s 5ms/step - loss: 0.6185 - AUC: 0.7106 - val_loss: 0.5965 - val_AUC: 0.7365\n",
            "Epoch 9/10\n",
            "7484/7484 [==============================] - 48s 6ms/step - loss: 0.6146 - AUC: 0.7160 - val_loss: 0.5934 - val_AUC: 0.7398\n",
            "Epoch 10/10\n",
            "7484/7484 [==============================] - 58s 8ms/step - loss: 0.6120 - AUC: 0.7196 - val_loss: 0.5921 - val_AUC: 0.7413\n"
          ]
        }
      ]
    },
    {
      "cell_type": "code",
      "source": [
        "def plot_learning_evolution(r):\n",
        "    plt.figure(figsize=(12, 8))\n",
        "    \n",
        "    plt.subplot(2, 2, 1)\n",
        "    plt.plot(r.history['loss'], label='Loss')\n",
        "    plt.plot(r.history['val_loss'], label='val_Loss')\n",
        "    plt.title('Loss evolution during trainig')\n",
        "    plt.legend()\n",
        "\n",
        "    plt.subplot(2, 2, 2)\n",
        "    plt.plot(r.history['AUC'], label='AUC')\n",
        "    plt.plot(r.history['val_AUC'], label='val_AUC')\n",
        "    plt.title('AUC score evolution during trainig')\n",
        "    plt.legend();\n",
        "\n",
        "\n",
        "plot_learning_evolution(r)"
      ],
      "metadata": {
        "colab": {
          "base_uri": "https://localhost:8080/",
          "height": 262
        },
        "outputId": "b42c2118-6e30-4037-a76f-dcf85360f2b3",
        "id": "EOnuT1VSnFRC"
      },
      "execution_count": null,
      "outputs": [
        {
          "output_type": "display_data",
          "data": {
            "text/plain": [
              "<Figure size 864x576 with 2 Axes>"
            ],
            "image/png": "[encoded data removed]"
          },
          "metadata": {
            "needs_background": "light"
          }
        }
      ]
    },
    {
      "cell_type": "code",
      "source": [
        "# F1 Score\n",
        "\n",
        "y_hat = model.predict(X_test)\n",
        "f1_score(y_test,y_hat.round())"
      ],
      "metadata": {
        "colab": {
          "base_uri": "https://localhost:8080/"
        },
        "id": "9PA2IrpEQ8P3",
        "outputId": "dfd3ec2d-d1a3-4a19-ddfe-df9ef98b17f2"
      },
      "execution_count": null,
      "outputs": [
        {
          "output_type": "execute_result",
          "data": {
            "text/plain": [
              "0.7060485034395834"
            ]
          },
          "metadata": {},
          "execution_count": 75
        }
      ]
    },
    {
      "cell_type": "code",
      "source": [
        "# ROC-AUV Score\n",
        "\n",
        "roc_auc_score(y_test,y_hat)"
      ],
      "metadata": {
        "colab": {
          "base_uri": "https://localhost:8080/"
        },
        "id": "7epLvGvVnswA",
        "outputId": "48fc5ee9-1f34-43c1-a8ad-42c4b1261e48"
      },
      "execution_count": null,
      "outputs": [
        {
          "output_type": "execute_result",
          "data": {
            "text/plain": [
              "0.741351616165731"
            ]
          },
          "metadata": {},
          "execution_count": 76
        }
      ]
    },
    {
      "cell_type": "code",
      "source": [
        ""
      ],
      "metadata": {
        "id": "0SbFu_9Pnst8"
      },
      "execution_count": null,
      "outputs": []
    },
    {
      "cell_type": "code",
      "source": [
        ""
      ],
      "metadata": {
        "id": "NkXbHnCSrxyY"
      },
      "execution_count": null,
      "outputs": []
    },
    {
      "cell_type": "code",
      "source": [
        ""
      ],
      "metadata": {
        "id": "xKoMdKUpnsr7"
      },
      "execution_count": null,
      "outputs": []
    },
    {
      "cell_type": "code",
      "source": [
        ""
      ],
      "metadata": {
        "id": "WDGQT0Uxnspx"
      },
      "execution_count": null,
      "outputs": []
    }
  ]
}